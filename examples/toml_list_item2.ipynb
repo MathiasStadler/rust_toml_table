{
 "cells": [
  {
   "cell_type": "markdown",
   "metadata": {},
   "source": [
    "[FROM HERE](https://stackoverflow.com/questions/60592561/how-to-deserialize-a-toml-table-containing-an-array-of-tables)"
   ]
  },
  {
   "cell_type": "code",
   "execution_count": null,
   "metadata": {
    "vscode": {
     "languageId": "rust"
    }
   },
   "outputs": [],
   "source": [
    ":dep serde = { version = \"1.0\", features = [\"derive\"] }\n",
    ":dep toml = \"0.7.6\""
   ]
  },
  {
   "cell_type": "code",
   "execution_count": 30,
   "metadata": {
    "vscode": {
     "languageId": "rust"
    }
   },
   "outputs": [],
   "source": [
    "use serde::Deserialize;\n",
    "use std::collections::HashMap;\n",
    "use toml::from_str;\n",
    "\n",
    "#[derive(Deserialize, Debug)]\n",
    "struct Item {\n",
    "    foo: u64,\n",
    "    bar: u64,\n",
    "}\n",
    "\n",
    "fn main() {\n",
    "\n",
    "    //new vector\n",
    "    let mut v:Vec<Item> = Vec::new();\n",
    "\n",
    "    //first vector\n",
    "    let item1 = Item{\n",
    "        foo:30,\n",
    "        bar:45,\n",
    "    };\n",
    "    \n",
    "    // add to vector\n",
    "    v.push(item1);\n",
    "\n",
    "    //second vector\n",
    "    //first vector\n",
    "    let item2 = Item{\n",
    "        foo:30,\n",
    "        bar:45,\n",
    "    };\n",
    "    \n",
    "    // add to vector\n",
    "    v.push(item2);\n",
    "\n",
    "    // new HashMap\n",
    "    // https://doc.rust-lang.org/stable/std/collections/struct.HashMap.html\n",
    "    //let mut item_table_two = HashMap::new();\n",
    "    \n",
    "    //item_table_two.insert(\"hallo\".to_string(),item1);\n",
    "\n",
    "\n",
    "    println!(\"original vector = {:?}\", v);\n",
    "    \n",
    "\n",
    "    let items_string: &str = \"[[items]]\\nfoo = 10\\nbar = 100\\n\\n[[items]]\\nfoo = 12\\nbar = 144\\n\";\n",
    "    let items_table: HashMap<String, Vec<Item>> = from_str(items_string).unwrap();\n",
    "    let items: &[Item] = &items_table[\"items\"];\n",
    "\n",
    "    println!(\"{:?}\", items_table);\n",
    "    println!(\"{:?}\", items);\n",
    "\n",
    "    \n",
    "}\n"
   ]
  },
  {
   "cell_type": "code",
   "execution_count": 31,
   "metadata": {
    "vscode": {
     "languageId": "rust"
    }
   },
   "outputs": [
    {
     "name": "stdout",
     "output_type": "stream",
     "text": [
      "original vector = [Item { foo: 30, bar: 45 }, Item { foo: 30, bar: 45 }]\n",
      "{\"items\": [Item { foo: 10, bar: 100 }, Item { foo: 12, bar: 144 }]}\n",
      "[Item { foo: 10, bar: 100 }, Item { foo: 12, bar: 144 }]\n"
     ]
    }
   ],
   "source": [
    "main();"
   ]
  },
  {
   "cell_type": "markdown",
   "metadata": {},
   "source": [
    "#HashMap"
   ]
  },
  {
   "cell_type": "code",
   "execution_count": null,
   "metadata": {
    "vscode": {
     "languageId": "rust"
    }
   },
   "outputs": [],
   "source": [
    "use std::collections::HashMap;\n",
    "let mut contacts = HashMap::new();\n",
    "\n",
    "    contacts.insert(\"Daniel\", \"798-1364\");\n",
    "    contacts.insert(\"Ashley\", \"645-7689\");\n",
    "    contacts.insert(\"Katie\", \"435-8291\");\n",
    "    contacts.insert(\"Robert\", \"956-1745\");"
   ]
  },
  {
   "cell_type": "code",
   "execution_count": 53,
   "metadata": {
    "vscode": {
     "languageId": "rust"
    }
   },
   "outputs": [
    {
     "ename": "Error",
     "evalue": "Couldn't automatically determine type of variable `mapofvec`.\nPlease give it an explicit type.",
     "output_type": "error",
     "traceback": [
      "Couldn't automatically determine type of variable `mapofvec`.\nPlease give it an explicit type."
     ]
    }
   ],
   "source": [
    "use std::collections::HashMap;\n",
    "use serde::Deserialize;\n",
    "use std::collections::HashMap;\n",
    "use toml::from_str;\n",
    "\n",
    "#[derive(Deserialize, Debug)]\n",
    "struct Item {\n",
    "    foo: u64,\n",
    "    bar: u64,\n",
    "}\n",
    "\n",
    "let mut contacts = HashMap::new();\n",
    "\n",
    "    contacts.insert(\"Daniel\", \"798-1364\");\n",
    "    contacts.insert(\"Ashley\", \"645-7689\");\n",
    "    contacts.insert(\"Katie\", \"435-8291\");\n",
    "    contacts.insert(\"Robert\", \"956-1745\");\n",
    "\n",
    "//new vector\n",
    "let mut v:Vec<Item> = Vec::new();\n",
    "\n",
    "//first vector\n",
    "let item1 = Item{\n",
    "    foo:30,\n",
    "    bar:45,\n",
    "};\n",
    "\n",
    "\n",
    "\n",
    "\n",
    "// add to vector\n",
    "v.push(item1);\n",
    "\n",
    "let mut mapofvec = HashMap::new();\n",
    "\n",
    "//mapofvec.insert(\"one\",v);\n",
    "mapofvec.entry(\"first\".to_strng()).or_insert(Vec::new()).push(item1);\n",
    "\n",
    "println!(\"{:?}\", item1);\n",
    "println!(\"{:?}\", v);\n",
    "println!(\"{:?}\", mapofvec);\n",
    "\n",
    "\n"
   ]
  },
  {
   "cell_type": "markdown",
   "metadata": {},
   "source": [
    "#(FROM HERE)[https://stackoverflow.com/questions/33243784/append-to-vector-as-value-of-hashmap]"
   ]
  },
  {
   "cell_type": "code",
   "execution_count": null,
   "metadata": {
    "vscode": {
     "languageId": "rust"
    }
   },
   "outputs": [],
   "source": [
    "fn main_vec_1() {\n",
    "    let mut dict = HashMap::new();\n",
    "    let mut prefix = [\"\", \"\"];\n",
    "\n",
    "    let lorem = \"Lorem ipsum dolor sit amet, consectetur adipisicing elit. Eum debitis earum quidem dolorem quos consequatur perspiciatis architecto! Reiciendis rem est blanditiis fugiat quidem similique suscipit soluta, ab veniam, laborum numquam. Lorem ipsum dolor sit amet, consectetur adipisicing elit. Eum debitis earum quidem dolorem quos consequatur perspiciatis architecto! Reiciendis rem est blanditiis fugiat quidem similique suscipit soluta, ab veniam, laborum numquam.\";\n",
    "\n",
    "    for token in lorem.split_whitespace() {\n",
    "        if prefix[0] != \"\" {\n",
    "\n",
    "            let key = prefix.join(\" \");\n",
    "\n",
    "            if !dict.contains_key(&key) {\n",
    "                dict.insert(key, vec![token]);\n",
    "            } else {\n",
    "                let v = dict.get(&key);\n",
    "                v.push(token); // does not actually return a vector\n",
    "            }\n",
    "        }\n",
    "\n",
    "        prefix[0] = prefix[1];\n",
    "        prefix[1] = token;\n",
    "    }\n",
    "}"
   ]
  },
  {
   "cell_type": "code",
   "execution_count": 44,
   "metadata": {
    "vscode": {
     "languageId": "rust"
    }
   },
   "outputs": [],
   "source": [
    "fn main_vec_2() {\n",
    "    let mut dict = HashMap::new();\n",
    "    let mut prefix = [\"\", \"\"];\n",
    "\n",
    "    let lorem2 = \"Lorem ipsum dolor sit amet, consectetur adipisicing elit. Eum debitis earum quidem dolorem quos consequatur perspiciatis architecto! Reiciendis rem est blanditiis fugiat quidem similique suscipit soluta, ab veniam, laborum numquam. Lorem ipsum dolor sit amet, consectetur adipisicing elit. Eum debitis earum quidem dolorem quos consequatur perspiciatis architecto! Reiciendis rem est blanditiis fugiat quidem similique suscipit soluta, ab veniam, laborum numquam.\";\n",
    "    let lorem = \"Lorem ipsum dolor sit amet, consectetur adipisicing elit. Eum debitis earum quidem dolorem quos consequatur perspiciatis architecto! Reiciendis rem est blanditiis fugiat quidem similique suscipit soluta, ab veniam, laborum numquam. Lorem ipsum dolor sit amet, consectetur adipisicing elit. Eum debitis earum quidem dolorem quos consequatur perspiciatis architecto! Reiciendis rem est blanditiis fugiat quidem similique suscipit soluta, ab veniam, laborum numquam.\";\n",
    "\n",
    "    for token in lorem.split_whitespace() {\n",
    "        if prefix[0] != \"\" {\n",
    "            let key = prefix.join(\" \");\n",
    "            dict.entry(key).or_insert(Vec::new()).push(token);\n",
    "        }\n",
    "    \n",
    "        prefix[0] = prefix[1];\n",
    "        prefix[1] = token;\n",
    "    }\n",
    "    println!(\"{:?}\",dict);\n",
    "        \n",
    "}"
   ]
  },
  {
   "cell_type": "code",
   "execution_count": 45,
   "metadata": {
    "vscode": {
     "languageId": "rust"
    }
   },
   "outputs": [
    {
     "name": "stdout",
     "output_type": "stream",
     "text": [
      "{\"veniam, laborum\": [\"numquam.\", \"numquam.\"], \"dolor sit\": [\"amet,\", \"amet,\"], \"quidem dolorem\": [\"quos\", \"quos\"], \"architecto! Reiciendis\": [\"rem\", \"rem\"], \"numquam. Lorem\": [\"ipsum\"], \"quos consequatur\": [\"perspiciatis\", \"perspiciatis\"], \"dolorem quos\": [\"consequatur\", \"consequatur\"], \"amet, consectetur\": [\"adipisicing\", \"adipisicing\"], \"consequatur perspiciatis\": [\"architecto!\", \"architecto!\"], \"Reiciendis rem\": [\"est\", \"est\"], \"blanditiis fugiat\": [\"quidem\", \"quidem\"], \"perspiciatis architecto!\": [\"Reiciendis\", \"Reiciendis\"], \"laborum numquam.\": [\"Lorem\"], \"Lorem ipsum\": [\"dolor\", \"dolor\"], \"elit. Eum\": [\"debitis\", \"debitis\"], \"consectetur adipisicing\": [\"elit.\", \"elit.\"], \"suscipit soluta,\": [\"ab\", \"ab\"], \"sit amet,\": [\"consectetur\", \"consectetur\"], \"est blanditiis\": [\"fugiat\", \"fugiat\"], \"quidem similique\": [\"suscipit\", \"suscipit\"], \"rem est\": [\"blanditiis\", \"blanditiis\"], \"similique suscipit\": [\"soluta,\", \"soluta,\"], \"adipisicing elit.\": [\"Eum\", \"Eum\"], \"Eum debitis\": [\"earum\", \"earum\"], \"debitis earum\": [\"quidem\", \"quidem\"], \"ipsum dolor\": [\"sit\", \"sit\"], \"soluta, ab\": [\"veniam,\", \"veniam,\"], \"earum quidem\": [\"dolorem\", \"dolorem\"], \"fugiat quidem\": [\"similique\", \"similique\"], \"ab veniam,\": [\"laborum\", \"laborum\"]}\n"
     ]
    }
   ],
   "source": [
    "main_vec_2();"
   ]
  },
  {
   "cell_type": "code",
   "execution_count": 52,
   "metadata": {
    "vscode": {
     "languageId": "rust"
    }
   },
   "outputs": [
    {
     "ename": "Error",
     "evalue": "`[&str; 2]` doesn't implement `std::fmt::Display`",
     "output_type": "error",
     "traceback": [
      "\u001b[31m[E0277] Error:\u001b[0m `[&str; 2]` doesn't implement `std::fmt::Display`",
      "    \u001b[38;5;246m╭\u001b[0m\u001b[38;5;246m─\u001b[0m\u001b[38;5;246m[\u001b[0mcommand_52:1:1\u001b[38;5;246m]\u001b[0m",
      "    \u001b[38;5;246m│\u001b[0m",
      " \u001b[38;5;246m12 │\u001b[0m \u001b[38;5;249m \u001b[0m\u001b[38;5;249m \u001b[0m\u001b[38;5;249m \u001b[0m\u001b[38;5;249m \u001b[0m\u001b[38;5;249m \u001b[0m\u001b[38;5;249m \u001b[0m\u001b[38;5;249m \u001b[0m\u001b[38;5;249m \u001b[0m\u001b[38;5;249m \u001b[0m\u001b[38;5;249m \u001b[0m\u001b[38;5;249m \u001b[0m\u001b[38;5;249m \u001b[0m\u001b[38;5;249mp\u001b[0m\u001b[38;5;249mr\u001b[0m\u001b[38;5;249mi\u001b[0m\u001b[38;5;249mn\u001b[0m\u001b[38;5;249mt\u001b[0m\u001b[38;5;249ml\u001b[0m\u001b[38;5;249mn\u001b[0m\u001b[38;5;249m!\u001b[0m\u001b[38;5;249m(\u001b[0m\u001b[38;5;249m\"\u001b[0m\u001b[38;5;249mk\u001b[0m\u001b[38;5;249me\u001b[0m\u001b[38;5;249my\u001b[0m\u001b[38;5;249ms\u001b[0m\u001b[38;5;249m \u001b[0m\u001b[38;5;249m=\u001b[0m\u001b[38;5;249m>\u001b[0m\u001b[38;5;249m \u001b[0m\u001b[38;5;249m{\u001b[0m\u001b[38;5;249m}\u001b[0m\u001b[38;5;249m\"\u001b[0m\u001b[38;5;249m,\u001b[0m\u001b[38;5;54mk\u001b[0m\u001b[38;5;54me\u001b[0m\u001b[38;5;54my\u001b[0m\u001b[38;5;249m)\u001b[0m\u001b[38;5;249m;\u001b[0m",
      " \u001b[38;5;240m   │\u001b[0m                                   \u001b[38;5;54m─\u001b[0m\u001b[38;5;54m┬\u001b[0m\u001b[38;5;54m─\u001b[0m  ",
      " \u001b[38;5;240m   │\u001b[0m                                    \u001b[38;5;54m╰\u001b[0m\u001b[38;5;54m─\u001b[0m\u001b[38;5;54m─\u001b[0m\u001b[38;5;54m─\u001b[0m `[&str; 2]` cannot be formatted with the default formatter",
      "\u001b[38;5;246m────╯\u001b[0m"
     ]
    }
   ],
   "source": [
    "fn main_vec_3() {\n",
    "    let mut dict = HashMap::new();\n",
    "    let mut prefix = [\"\", \"\"];\n",
    "\n",
    "    let lorem2 = \"Lorem ipsum dolor sit amet, consectetur adipisicing elit. Eum debitis earum quidem dolorem quos consequatur perspiciatis architecto! Reiciendis rem est blanditiis fugiat quidem similique suscipit soluta, ab veniam, laborum numquam. Lorem ipsum dolor sit amet, consectetur adipisicing elit. Eum debitis earum quidem dolorem quos consequatur perspiciatis architecto! Reiciendis rem est blanditiis fugiat quidem similique suscipit soluta, ab veniam, laborum numquam.\";\n",
    "    let lorem = \"Lorem ipsum dolor sit amet, consectetur adipisicing elit. Eum debitis earum quidem dolorem quos consequatur perspiciatis architecto! Reiciendis rem est blanditiis fugiat quidem similique suscipit soluta, ab veniam, laborum numquam. Lorem ipsum dolor sit amet, consectetur adipisicing elit. Eum debitis earum quidem dolorem quos consequatur perspiciatis architecto! Reiciendis rem est blanditiis fugiat quidem similique suscipit soluta, ab veniam, laborum numquam.\";\n",
    "\n",
    "    for token in lorem.split_whitespace() {\n",
    "        if prefix[0] != \"\" {\n",
    "            let key = prefix.join(\" \");\n",
    "            \n",
    "            println!(\"keys => {}\",key);\n",
    "            dict.entry(key).or_insert(Vec::new()).push(token);\n",
    "        }\n",
    "    \n",
    "        prefix[0] = prefix[1];\n",
    "        prefix[1] = token;\n",
    "    }\n",
    "    println!(\"{:?}\",dict);\n",
    "        \n",
    "}"
   ]
  },
  {
   "cell_type": "code",
   "execution_count": 51,
   "metadata": {
    "vscode": {
     "languageId": "rust"
    }
   },
   "outputs": [
    {
     "name": "stdout",
     "output_type": "stream",
     "text": [
      "keys => Lorem ipsum\n",
      "keys => ipsum dolor\n",
      "keys => dolor sit\n"
     ]
    },
    {
     "name": "stdout",
     "output_type": "stream",
     "text": [
      "keys => sit amet,\n",
      "keys => amet, consectetur\n",
      "keys => consectetur adipisicing\n",
      "keys => adipisicing elit.\n",
      "keys => elit. Eum\n",
      "keys => Eum debitis\n",
      "keys => debitis earum\n",
      "keys => earum quidem\n",
      "keys => quidem dolorem\n",
      "keys => dolorem quos\n",
      "keys => quos consequatur\n",
      "keys => consequatur perspiciatis\n",
      "keys => perspiciatis architecto!\n",
      "keys => architecto! Reiciendis\n",
      "keys => Reiciendis rem\n",
      "keys => rem est\n",
      "keys => est blanditiis\n",
      "keys => blanditiis fugiat\n",
      "keys => fugiat quidem\n",
      "keys => quidem similique\n",
      "keys => similique suscipit\n",
      "keys => suscipit soluta,\n",
      "keys => soluta, ab\n",
      "keys => ab veniam,\n",
      "keys => veniam, laborum\n",
      "keys => laborum numquam.\n",
      "keys => numquam. Lorem\n",
      "keys => Lorem ipsum\n",
      "keys => ipsum dolor\n",
      "keys => dolor sit\n",
      "keys => sit amet,\n",
      "keys => amet, consectetur\n",
      "keys => consectetur adipisicing\n",
      "keys => adipisicing elit.\n",
      "keys => elit. Eum\n",
      "keys => Eum debitis\n",
      "keys => debitis earum\n",
      "keys => earum quidem\n",
      "keys => quidem dolorem\n",
      "keys => dolorem quos\n",
      "keys => quos consequatur\n",
      "keys => consequatur perspiciatis\n",
      "keys => perspiciatis architecto!\n",
      "keys => architecto! Reiciendis\n",
      "keys => Reiciendis rem\n",
      "keys => rem est\n",
      "keys => est blanditiis\n",
      "keys => blanditiis fugiat\n",
      "keys => fugiat quidem\n",
      "keys => quidem similique\n",
      "keys => similique suscipit\n",
      "keys => suscipit soluta,\n",
      "keys => soluta, ab\n",
      "keys => ab veniam,\n",
      "keys => veniam, laborum\n",
      "{\"similique suscipit\": [\"soluta,\", \"soluta,\"], \"debitis earum\": [\"quidem\", \"quidem\"], \"ipsum dolor\": [\"sit\", \"sit\"], \"Lorem ipsum\": [\"dolor\", \"dolor\"], \"earum quidem\": [\"dolorem\", \"dolorem\"], \"numquam. Lorem\": [\"ipsum\"], \"dolor sit\": [\"amet,\", \"amet,\"], \"consequatur perspiciatis\": [\"architecto!\", \"architecto!\"], \"elit. Eum\": [\"debitis\", \"debitis\"], \"veniam, laborum\": [\"numquam.\", \"numquam.\"], \"quos consequatur\": [\"perspiciatis\", \"perspiciatis\"], \"fugiat quidem\": [\"similique\", \"similique\"], \"laborum numquam.\": [\"Lorem\"], \"rem est\": [\"blanditiis\", \"blanditiis\"], \"perspiciatis architecto!\": [\"Reiciendis\", \"Reiciendis\"], \"consectetur adipisicing\": [\"elit.\", \"elit.\"], \"suscipit soluta,\": [\"ab\", \"ab\"], \"soluta, ab\": [\"veniam,\", \"veniam,\"], \"sit amet,\": [\"consectetur\", \"consectetur\"], \"amet, consectetur\": [\"adipisicing\", \"adipisicing\"], \"quidem similique\": [\"suscipit\", \"suscipit\"], \"quidem dolorem\": [\"quos\", \"quos\"], \"est blanditiis\": [\"fugiat\", \"fugiat\"], \"ab veniam,\": [\"laborum\", \"laborum\"], \"Eum debitis\": [\"earum\", \"earum\"], \"dolorem quos\": [\"consequatur\", \"consequatur\"], \"adipisicing elit.\": [\"Eum\", \"Eum\"], \"architecto! Reiciendis\": [\"rem\", \"rem\"], \"Reiciendis rem\": [\"est\", \"est\"], \"blanditiis fugiat\": [\"quidem\", \"quidem\"]}\n"
     ]
    }
   ],
   "source": [
    "main_vec_3();"
   ]
  }
 ],
 "metadata": {
  "kernelspec": {
   "display_name": "Rust",
   "language": "rust",
   "name": "rust"
  },
  "language_info": {
   "codemirror_mode": "rust",
   "file_extension": ".rs",
   "mimetype": "text/rust",
   "name": "Rust",
   "pygment_lexer": "rust",
   "version": ""
  },
  "orig_nbformat": 4
 },
 "nbformat": 4,
 "nbformat_minor": 2
}
