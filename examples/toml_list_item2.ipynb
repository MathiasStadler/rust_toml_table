{
 "cells": [
  {
   "cell_type": "markdown",
   "metadata": {},
   "source": [
    "[FROM HERE](https://stackoverflow.com/questions/60592561/how-to-deserialize-a-toml-table-containing-an-array-of-tables)"
   ]
  },
  {
   "cell_type": "code",
   "execution_count": 3,
   "metadata": {
    "vscode": {
     "languageId": "rust"
    }
   },
   "outputs": [],
   "source": [
    ":dep serde = { version = \"1.0\", features = [\"derive\"] }\n",
    ":dep toml = \"0.7.6\""
   ]
  },
  {
   "cell_type": "code",
   "execution_count": 28,
   "metadata": {
    "vscode": {
     "languageId": "rust"
    }
   },
   "outputs": [
    {
     "ename": "Error",
     "evalue": "expected one of `:`, `;`, `=`, `@`, or `|`, found `<`",
     "output_type": "error",
     "traceback": [
      "\u001b[31mError:\u001b[0m expected one of `:`, `;`, `=`, `@`, or `|`, found `<`",
      "    \u001b[38;5;246m╭\u001b[0m\u001b[38;5;246m─\u001b[0m\u001b[38;5;246m[\u001b[0mcommand_28:1:1\u001b[38;5;246m]\u001b[0m",
      "    \u001b[38;5;246m│\u001b[0m",
      " \u001b[38;5;246m37 │\u001b[0m \u001b[38;5;249m \u001b[0m\u001b[38;5;249m \u001b[0m\u001b[38;5;249m \u001b[0m\u001b[38;5;249m \u001b[0m\u001b[38;5;249ml\u001b[0m\u001b[38;5;249me\u001b[0m\u001b[38;5;249mt\u001b[0m\u001b[38;5;249m \u001b[0m\u001b[38;5;249mm\u001b[0m\u001b[38;5;249mu\u001b[0m\u001b[38;5;249mt\u001b[0m\u001b[38;5;249m \u001b[0m\u001b[38;5;249mi\u001b[0m\u001b[38;5;249mt\u001b[0m\u001b[38;5;249me\u001b[0m\u001b[38;5;249mm\u001b[0m\u001b[38;5;249m_\u001b[0m\u001b[38;5;249mt\u001b[0m\u001b[38;5;249ma\u001b[0m\u001b[38;5;249mb\u001b[0m\u001b[38;5;249ml\u001b[0m\u001b[38;5;249me\u001b[0m\u001b[38;5;249m_\u001b[0m\u001b[38;5;249mt\u001b[0m\u001b[38;5;249mw\u001b[0m\u001b[38;5;249mo\u001b[0m\u001b[38;5;54m<\u001b[0m\u001b[38;5;249mS\u001b[0m\u001b[38;5;249mt\u001b[0m\u001b[38;5;249mr\u001b[0m\u001b[38;5;249mi\u001b[0m\u001b[38;5;249mn\u001b[0m\u001b[38;5;249mg\u001b[0m\u001b[38;5;249m,\u001b[0m\u001b[38;5;249m \u001b[0m\u001b[38;5;249mV\u001b[0m\u001b[38;5;249me\u001b[0m\u001b[38;5;249mc\u001b[0m\u001b[38;5;249m<\u001b[0m\u001b[38;5;249mI\u001b[0m\u001b[38;5;249mt\u001b[0m\u001b[38;5;249me\u001b[0m\u001b[38;5;249mm\u001b[0m\u001b[38;5;249m>\u001b[0m\u001b[38;5;249m>\u001b[0m\u001b[38;5;249m \u001b[0m\u001b[38;5;249m=\u001b[0m\u001b[38;5;249m \u001b[0m\u001b[38;5;249mH\u001b[0m\u001b[38;5;249ma\u001b[0m\u001b[38;5;249ms\u001b[0m\u001b[38;5;249mh\u001b[0m\u001b[38;5;249mM\u001b[0m\u001b[38;5;249ma\u001b[0m\u001b[38;5;249mp\u001b[0m\u001b[38;5;249m:\u001b[0m\u001b[38;5;249m:\u001b[0m\u001b[38;5;249mn\u001b[0m\u001b[38;5;249me\u001b[0m\u001b[38;5;249mw\u001b[0m\u001b[38;5;249m(\u001b[0m\u001b[38;5;249m)\u001b[0m\u001b[38;5;249m;\u001b[0m",
      " \u001b[38;5;240m   │\u001b[0m                           \u001b[38;5;54m┬\u001b[0m  ",
      " \u001b[38;5;240m   │\u001b[0m                           \u001b[38;5;54m╰\u001b[0m\u001b[38;5;54m─\u001b[0m\u001b[38;5;54m─\u001b[0m expected one of `:`, `;`, `=`, `@`, or `|`",
      "\u001b[38;5;246m────╯\u001b[0m"
     ]
    }
   ],
   "source": [
    "use serde::Deserialize;\n",
    "use std::collections::HashMap;\n",
    "use toml::from_str;\n",
    "\n",
    "#[derive(Deserialize, Debug)]\n",
    "struct Item {\n",
    "    foo: u64,\n",
    "    bar: u64,\n",
    "}\n",
    "\n",
    "fn main() {\n",
    "\n",
    "    //new vector\n",
    "    let mut v:Vec<Item> = Vec::new();\n",
    "\n",
    "    //first vector\n",
    "    let item1 = Item{\n",
    "        foo:30,\n",
    "        bar:45,\n",
    "    };\n",
    "    \n",
    "    // add to vector\n",
    "    v.push(item1);\n",
    "\n",
    "    //second vector\n",
    "    //first vector\n",
    "    let item2 = Item{\n",
    "        foo:30,\n",
    "        bar:45,\n",
    "    };\n",
    "    \n",
    "    // add to vector\n",
    "    v.push(item2);\n",
    "\n",
    "    // new HashMap\n",
    "    // https://doc.rust-lang.org/stable/std/collections/struct.HashMap.html\n",
    "    let mut item_table_two<String, Vec<Item>> = HashMap::new();\n",
    "    item_table_two.insert(\"hallo\".to_string(),item1);\n",
    "\n",
    "\n",
    "    println!(\"original vector = {:?}\", v);\n",
    "    \n",
    "\n",
    "    let items_string: &str = \"[[items]]\\nfoo = 10\\nbar = 100\\n\\n[[items]]\\nfoo = 12\\nbar = 144\\n\";\n",
    "    let items_table: HashMap<String, Vec<Item>> = from_str(items_string).unwrap();\n",
    "    let items: &[Item] = &items_table[\"items\"];\n",
    "\n",
    "    println!(\"{:?}\", items_table);\n",
    "    println!(\"{:?}\", items);\n",
    "}\n"
   ]
  },
  {
   "cell_type": "code",
   "execution_count": 25,
   "metadata": {
    "vscode": {
     "languageId": "rust"
    }
   },
   "outputs": [
    {
     "name": "stdout",
     "output_type": "stream",
     "text": [
      "original vector = [Item { foo: 30, bar: 45 }, Item { foo: 30, bar: 45 }]\n",
      "{\"items\": [Item { foo: 10, bar: 100 }, Item { foo: 12, bar: 144 }]}\n",
      "[Item { foo: 10, bar: 100 }, Item { foo: 12, bar: 144 }]\n"
     ]
    }
   ],
   "source": [
    "main();"
   ]
  }
 ],
 "metadata": {
  "kernelspec": {
   "display_name": "Rust",
   "language": "rust",
   "name": "rust"
  },
  "language_info": {
   "codemirror_mode": "rust",
   "file_extension": ".rs",
   "mimetype": "text/rust",
   "name": "Rust",
   "pygment_lexer": "rust",
   "version": ""
  },
  "orig_nbformat": 4
 },
 "nbformat": 4,
 "nbformat_minor": 2
}
