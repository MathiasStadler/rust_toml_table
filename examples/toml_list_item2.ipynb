{
 "cells": [
  {
   "cell_type": "markdown",
   "metadata": {},
   "source": [
    "[FROM HERE](https://stackoverflow.com/questions/60592561/how-to-deserialize-a-toml-table-containing-an-array-of-tables)"
   ]
  },
  {
   "cell_type": "code",
   "execution_count": 3,
   "metadata": {
    "vscode": {
     "languageId": "rust"
    }
   },
   "outputs": [],
   "source": [
    ":dep serde = { version = \"1.0\", features = [\"derive\"] }\n",
    ":dep toml = \"0.7.6\""
   ]
  },
  {
   "cell_type": "code",
   "execution_count": 24,
   "metadata": {
    "vscode": {
     "languageId": "rust"
    }
   },
   "outputs": [],
   "source": [
    "use serde::Deserialize;\n",
    "use std::collections::HashMap;\n",
    "use toml::from_str;\n",
    "\n",
    "#[derive(Deserialize, Debug)]\n",
    "struct Item {\n",
    "    foo: u64,\n",
    "    bar: u64,\n",
    "}\n",
    "\n",
    "fn main() {\n",
    "\n",
    "    //new vector\n",
    "    let mut v:Vec<Item> = Vec::new();\n",
    "\n",
    "    //first vector\n",
    "    let item1 = Item{\n",
    "        foo:30,\n",
    "        bar:45,\n",
    "    };\n",
    "    \n",
    "    // add to vector\n",
    "    v.push(item1);\n",
    "\n",
    "    //second vector\n",
    "    //first vector\n",
    "    let item2 = Item{\n",
    "        foo:30,\n",
    "        bar:45,\n",
    "    };\n",
    "    \n",
    "    // add to vector\n",
    "    v.push(item2);\n",
    "\n",
    "\n",
    "\n",
    "    println!(\"original vector = {:?}\", v);\n",
    "    \n",
    "\n",
    "    let items_string: &str = \"[[items]]\\nfoo = 10\\nbar = 100\\n\\n[[items]]\\nfoo = 12\\nbar = 144\\n\";\n",
    "    let items_table: HashMap<String, Vec<Item>> = from_str(items_string).unwrap();\n",
    "    let items: &[Item] = &items_table[\"items\"];\n",
    "\n",
    "    println!(\"{:?}\", items_table);\n",
    "    println!(\"{:?}\", items);\n",
    "}\n"
   ]
  },
  {
   "cell_type": "code",
   "execution_count": 25,
   "metadata": {
    "vscode": {
     "languageId": "rust"
    }
   },
   "outputs": [
    {
     "name": "stdout",
     "output_type": "stream",
     "text": [
      "original vector = [Item { foo: 30, bar: 45 }, Item { foo: 30, bar: 45 }]\n",
      "{\"items\": [Item { foo: 10, bar: 100 }, Item { foo: 12, bar: 144 }]}\n",
      "[Item { foo: 10, bar: 100 }, Item { foo: 12, bar: 144 }]\n"
     ]
    }
   ],
   "source": [
    "main();"
   ]
  }
 ],
 "metadata": {
  "kernelspec": {
   "display_name": "Rust",
   "language": "rust",
   "name": "rust"
  },
  "language_info": {
   "codemirror_mode": "rust",
   "file_extension": ".rs",
   "mimetype": "text/rust",
   "name": "Rust",
   "pygment_lexer": "rust",
   "version": ""
  },
  "orig_nbformat": 4
 },
 "nbformat": 4,
 "nbformat_minor": 2
}
