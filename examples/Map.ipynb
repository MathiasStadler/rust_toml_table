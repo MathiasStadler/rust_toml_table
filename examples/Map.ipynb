{
 "cells": [
  {
   "cell_type": "code",
   "execution_count": 6,
   "metadata": {
    "vscode": {
     "languageId": "rust"
    }
   },
   "outputs": [],
   "source": [
    ":dep toml"
   ]
  },
  {
   "cell_type": "code",
   "execution_count": 8,
   "metadata": {
    "vscode": {
     "languageId": "rust"
    }
   },
   "outputs": [
    {
     "ename": "Error",
     "evalue": "unresolved import `toml::map::HashMap`",
     "output_type": "error",
     "traceback": [
      "\u001b[31m[E0432] Error:\u001b[0m unresolved import `toml::map::HashMap`"
     ]
    },
    {
     "ename": "Error",
     "evalue": "unresolved import `toml::Serialize`",
     "output_type": "error",
     "traceback": [
      "\u001b[31m[E0432] Error:\u001b[0m unresolved import `toml::Serialize`"
     ]
    }
   ],
   "source": [
    "//use std::collections::HashMap;\n",
    "use toml::{map::Map, Value,Serialize};\n",
    "\n",
    "let mut car_map:HashMap<String, String> = HashMap::new();\n",
    "        car_map.insert(\"color\".into(), Value::String(\"ip_addr\".to_string()));\n",
    "        car_map.insert(\"speed\".into(), Value::Integer(0 as i64));"
   ]
  }
 ],
 "metadata": {
  "kernelspec": {
   "display_name": "Rust",
   "language": "rust",
   "name": "rust"
  },
  "language_info": {
   "codemirror_mode": "rust",
   "file_extension": ".rs",
   "mimetype": "text/rust",
   "name": "Rust",
   "pygment_lexer": "rust",
   "version": ""
  },
  "orig_nbformat": 4
 },
 "nbformat": 4,
 "nbformat_minor": 2
}
