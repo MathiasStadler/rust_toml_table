{
 "cells": [
  {
   "cell_type": "markdown",
   "metadata": {},
   "source": [
    "# Test toml to struct\n",
    "## [From here]()"
   ]
  },
  {
   "cell_type": "code",
   "execution_count": null,
   "metadata": {
    "vscode": {
     "languageId": "rust"
    }
   },
   "outputs": [],
   "source": [
    ":dep serde = { version = \"1.0\", features = [\"derive\"] }\n",
    ":dep toml = \"0.7.6\""
   ]
  },
  {
   "cell_type": "code",
   "execution_count": null,
   "metadata": {
    "vscode": {
     "languageId": "rust"
    }
   },
   "outputs": [],
   "source": [
    "//use serde_derive::Deserialize;\n",
    "use serde::Deserialize;\n",
    "use std::collections::HashMap;\n",
    "use toml;\n",
    "\n",
    "#[derive(Debug, Deserialize)]\n",
    "struct Toys {\n",
    "    balls: u8,\n",
    "    bricks: u8,\n",
    "    cars: HashMap<String, Car>,\n",
    "    trucks: HashMap<String, Truck>,\n",
    "}\n",
    "\n",
    "#[derive(Debug, Deserialize)]\n",
    "struct Car {\n",
    "    color: String,\n",
    "    speed: u8,\n",
    "}\n",
    "\n",
    "#[derive(Debug, Deserialize)]\n",
    "struct Truck {\n",
    "    load: u16,\n",
    "    hp: u16,\n",
    "}\n",
    "\n",
    "const TEXT: &str = r#\"\n",
    "another_value=\"select one\"\n",
    "balls = 5\n",
    "bricks = 250\n",
    "[cars]\n",
    "  [cars.car1]\n",
    "  color = \"green\"\n",
    "  speed = 3\n",
    "  [cars.car2]\n",
    "  color = \"red\"\n",
    "  speed = 10\n",
    "[trucks]\n",
    "  [trucks.truck1]\n",
    "  load = 15\n",
    "  hp = 670\n",
    "  [trucks.truck2]\n",
    "  load = 25\n",
    "  hp = 800\n",
    "\"#;\n",
    "\n",
    "fn main_tags() {\n",
    "    let toys: Toys = toml::from_str(TEXT).unwrap();\n",
    "    println!(\"{:#?}\", toys);\n",
    "}"
   ]
  },
  {
   "cell_type": "code",
   "execution_count": null,
   "metadata": {
    "vscode": {
     "languageId": "rust"
    }
   },
   "outputs": [],
   "source": [
    "main_tags();"
   ]
  },
  {
   "cell_type": "code",
   "execution_count": null,
   "metadata": {
    "vscode": {
     "languageId": "rust"
    }
   },
   "outputs": [],
   "source": [
    "use std::fs::File;\n",
    "use std::io::Write;\n",
    "use serde::Serialize;\n",
    "use toml::to_string;\n",
    "//use serde_derive::Deserialize;\n",
    "use serde::Deserialize;\n",
    "use std::collections::HashMap;\n",
    "use toml;\n",
    "\n",
    "\n",
    "#[derive(Debug, Deserialize,Serialize)]\n",
    "struct Toys {\n",
    "    balls: u8,\n",
    "    bricks: u8,\n",
    "    cars: HashMap<String, Car>,\n",
    "    trucks: HashMap<String, Truck>,\n",
    "}\n",
    "\n",
    "#[derive(Debug, Deserialize,Serialize)]\n",
    "struct Car {\n",
    "    color: String,\n",
    "    speed: u8,\n",
    "}\n",
    "\n",
    "#[derive(Debug, Deserialize,Serialize)]\n",
    "struct Truck {\n",
    "    load: u16,\n",
    "    hp: u16,\n",
    "}\n",
    "\n",
    "const TEXT: &str = r#\"\n",
    "another_value=\"select one\"\n",
    "balls = 5\n",
    "bricks = 250\n",
    "[cars]\n",
    "  [cars.car1]\n",
    "  color = \"green\"\n",
    "  speed = 3\n",
    "  [cars.car2]\n",
    "  color = \"red\"\n",
    "  speed = 10\n",
    "[trucks]\n",
    "  [trucks.truck1]\n",
    "  load = 15\n",
    "  hp = 670\n",
    "  [trucks.truck2]\n",
    "  load = 25\n",
    "  hp = 800\n",
    "\"#;\n",
    "\n",
    "\n",
    "\n",
    "fn write_toys_to_file(screener: &Toys, file_path: &str) -> Result<(), Box<dyn std::error::Error>> {\n",
    "    let toml_string = to_string(screener)?;\n",
    "    let mut file = File::create(file_path)?;\n",
    "    file.write_all(toml_string.as_bytes())?;\n",
    "    Ok(())\n",
    "}\n",
    "\n",
    "\n",
    "fn main_tags_to_file() {\n",
    "    let toys: Toys = toml::from_str(TEXT).unwrap();\n",
    "    \n",
    "    //let toml_string = to_string(toys);\n",
    "    println!(\"{:#?}\", toys);\n",
    "    \n",
    "    \n",
    "\n",
    "    \n",
    "    if let Err(e) = write_toys_to_file(&toys, \"screener.toml\") {\n",
    "        eprintln!(\"Error: {}\", e);\n",
    "    } else {\n",
    "        println!(\"Screener file created successfully.\");\n",
    "    }\n",
    "    \n",
    "}"
   ]
  },
  {
   "cell_type": "code",
   "execution_count": null,
   "metadata": {
    "vscode": {
     "languageId": "rust"
    }
   },
   "outputs": [],
   "source": [
    "main_tags_to_file();"
   ]
  }
 ],
 "metadata": {
  "kernelspec": {
   "display_name": "Rust",
   "language": "rust",
   "name": "rust"
  },
  "language_info": {
   "codemirror_mode": "rust",
   "file_extension": ".rs",
   "mimetype": "text/rust",
   "name": "Rust",
   "pygment_lexer": "rust",
   "version": ""
  },
  "orig_nbformat": 4
 },
 "nbformat": 4,
 "nbformat_minor": 2
}
