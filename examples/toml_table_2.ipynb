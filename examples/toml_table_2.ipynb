{
 "cells": [
  {
   "cell_type": "markdown",
   "metadata": {},
   "source": [
    "# Test toml to struct\n",
    "## [From here]()"
   ]
  },
  {
   "cell_type": "code",
   "execution_count": 2,
   "metadata": {
    "vscode": {
     "languageId": "rust"
    }
   },
   "outputs": [],
   "source": [
    ":dep toml\n",
    ":dep serde\n",
    ":dep serde_derive"
   ]
  },
  {
   "cell_type": "code",
   "execution_count": 8,
   "metadata": {
    "vscode": {
     "languageId": "rust"
    }
   },
   "outputs": [],
   "source": [
    "use serde_derive::Deserialize;\n",
    "//use serde::Deserialize;\n",
    "use std::collections::HashMap;\n",
    "use toml;\n",
    "\n",
    "#[derive(Debug, Deserialize)]\n",
    "struct Toys {\n",
    "    balls: u8,\n",
    "    bricks: u8,\n",
    "    cars: HashMap<String, Car>,\n",
    "    trucks: HashMap<String, Truck>,\n",
    "}\n",
    "\n",
    "#[derive(Debug, Deserialize)]\n",
    "struct Car {\n",
    "    color: String,\n",
    "    speed: u8,\n",
    "}\n",
    "\n",
    "#[derive(Debug, Deserialize)]\n",
    "struct Truck {\n",
    "    load: u16,\n",
    "    hp: u16,\n",
    "}\n",
    "\n",
    "const TEXT: &str = r#\"\n",
    "another_value=\"select one\"\n",
    "balls = 5\n",
    "bricks = 250\n",
    "[cars]\n",
    "  [cars.car1]\n",
    "  color = \"green\"\n",
    "  speed = 3\n",
    "  [cars.car2]\n",
    "  color = \"red\"\n",
    "  speed = 10\n",
    "[trucks]\n",
    "  [trucks.truck1]\n",
    "  load = 15\n",
    "  hp = 670\n",
    "  [trucks.truck2]\n",
    "  load = 25\n",
    "  hp = 800\n",
    "\"#;\n",
    "\n",
    "fn main_tags() {\n",
    "    let toys: Toys = toml::from_str(TEXT).unwrap();\n",
    "    println!(\"{:#?}\", toys);\n",
    "}"
   ]
  },
  {
   "cell_type": "code",
   "execution_count": 9,
   "metadata": {
    "vscode": {
     "languageId": "rust"
    }
   },
   "outputs": [
    {
     "name": "stdout",
     "output_type": "stream",
     "text": [
      "Toys {\n",
      "    balls: 5,\n",
      "    bricks: 250,\n",
      "    cars: {\n",
      "        \"car2\": Car {\n",
      "            color: \"red\",\n",
      "            speed: 10,\n",
      "        },\n",
      "        \"car1\": Car {\n",
      "            color: \"green\",\n",
      "            speed: 3,\n",
      "        },\n",
      "    },\n",
      "    trucks: {\n",
      "        \"truck2\": Truck {\n",
      "            load: 25,\n",
      "            hp: 800,\n",
      "        },\n",
      "        \"truck1\": Truck {\n",
      "            load: 15,\n",
      "            hp: 670,\n",
      "        },\n",
      "    },\n",
      "}\n"
     ]
    }
   ],
   "source": [
    "main_tags();"
   ]
  }
 ],
 "metadata": {
  "kernelspec": {
   "display_name": "Rust",
   "language": "rust",
   "name": "rust"
  },
  "language_info": {
   "codemirror_mode": "rust",
   "file_extension": ".rs",
   "mimetype": "text/rust",
   "name": "Rust",
   "pygment_lexer": "rust",
   "version": ""
  },
  "orig_nbformat": 4
 },
 "nbformat": 4,
 "nbformat_minor": 2
}
