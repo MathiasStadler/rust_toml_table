{
 "cells": [
  {
   "cell_type": "markdown",
   "metadata": {},
   "source": [
    "#rust -> toml -> file"
   ]
  },
  {
   "cell_type": "code",
   "execution_count": 2,
   "metadata": {},
   "outputs": [],
   "source": [
    ":dep serde = { version = \"1.0\", features = [\"derive\"] }\n",
    ":dep toml = \"0.7.6\""
   ]
  },
  {
   "cell_type": "code",
   "execution_count": 9,
   "metadata": {},
   "outputs": [],
   "source": [
    "use serde::Serialize;\n",
    "use std::fs::File;\n",
    "use std::io::Write;\n",
    "use toml::to_string;\n",
    "//use serde_derive::Deserialize;\n",
    "use serde::Deserialize;\n",
    "use std::collections::HashMap;\n",
    "use toml;\n",
    "\n",
    "#[derive(Debug, Deserialize, Serialize)]\n",
    "struct Toys {\n",
    "    balls: u8,\n",
    "    bricks: u8,\n",
    "    cars: HashMap<String, Car>,\n",
    "    trucks: HashMap<String, Truck>,\n",
    "}\n",
    "\n",
    "#[derive(Debug, Deserialize, Serialize)]\n",
    "struct Car {\n",
    "    color: String,\n",
    "    speed: u8,\n",
    "}\n",
    "\n",
    "#[derive(Debug, Deserialize, Serialize)]\n",
    "struct Truck {\n",
    "    load: u16,\n",
    "    hp: u16,\n",
    "}\n",
    "\n",
    "const TEXT: &str = r#\"\n",
    "another_value=\"select one\"\n",
    "balls = 5\n",
    "bricks = 250\n",
    "[cars]\n",
    "  [cars.car1]\n",
    "  color = \"green\"\n",
    "  speed = 3\n",
    "  [cars.car2]\n",
    "  color = \"red\"\n",
    "  speed = 10\n",
    "[trucks]\n",
    "  [trucks.truck1]\n",
    "  load = 15\n",
    "  hp = 670\n",
    "  [trucks.truck2]\n",
    "  load = 25\n",
    "  hp = 800\n",
    "\"#;\n",
    "\n",
    "fn write_toys_to_file(screener: &Toys, file_path: &str) -> Result<(), Box<dyn std::error::Error>> {\n",
    "    let toml_string = to_string(screener)?;\n",
    "    let mut file = File::create(file_path)?;\n",
    "    file.write_all(toml_string.as_bytes())?;\n",
    "    Ok(())\n",
    "}\n",
    "\n",
    "fn main_tags_to_file() {\n",
    "    let toys: Toys = toml::from_str(TEXT).unwrap();\n",
    "    //NOT WORKING\n",
    "    //let toys: Toys = toml::from_str(\"\").unwrap();\n",
    "\n",
    "    println!(\"{:#?}\", toys);\n",
    "\n",
    "    if let Err(e) = write_toys_to_file(&toys, \"screener_four.toml\") {\n",
    "        eprintln!(\"Error: {}\", e);\n",
    "    } else {\n",
    "        println!(\"Screener file created successfully.\");\n",
    "    }\n",
    "}\n"
   ]
  },
  {
   "cell_type": "code",
   "execution_count": 10,
   "metadata": {},
   "outputs": [
    {
     "name": "stderr",
     "output_type": "stream",
     "text": [
      "thread '<unnamed>' panicked at 'called `Result::unwrap()` on an `Err` value: Error { inner: Error { inner: TomlError { message: \"missing field `balls`\", original: Some(\"\"), keys: [], span: Some(0..0) } } }', src/lib.rs:4:41\n",
      "stack backtrace:\n",
      "   0: rust_begin_unwind\n",
      "             at /rustc/5680fa18feaa87f3ff04063800aec256c3d4b4be/library/std/src/panicking.rs:593:5\n",
      "   1: core::panicking::panic_fmt\n",
      "             at /rustc/5680fa18feaa87f3ff04063800aec256c3d4b4be/library/core/src/panicking.rs:67:14\n",
      "   2: core::result::unwrap_failed\n",
      "             at /rustc/5680fa18feaa87f3ff04063800aec256c3d4b4be/library/core/src/result.rs:1651:5\n",
      "   3: ctx::main_tags_to_file\n",
      "   4: run_user_code_9\n",
      "   5: evcxr::runtime::Runtime::run_loop\n",
      "   6: evcxr::runtime::runtime_hook\n",
      "   7: evcxr_jupyter::main\n",
      "note: Some details are omitted, run with `RUST_BACKTRACE=full` for a verbose backtrace.\n"
     ]
    }
   ],
   "source": [
    "main_tags_to_file();"
   ]
  }
 ],
 "metadata": {
  "kernelspec": {
   "display_name": "Rust",
   "language": "rust",
   "name": "rust"
  },
  "language_info": {
   "codemirror_mode": "rust",
   "file_extension": ".rs",
   "mimetype": "text/rust",
   "name": "rust",
   "pygment_lexer": "rust",
   "version": ""
  },
  "orig_nbformat": 4
 },
 "nbformat": 4,
 "nbformat_minor": 2
}
