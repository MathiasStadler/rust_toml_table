{
 "cells": [
  {
   "cell_type": "code",
   "execution_count": null,
   "metadata": {
    "vscode": {
     "languageId": "rust"
    }
   },
   "outputs": [],
   "source": [
    "println!(\"Hello World!\");"
   ]
  },
  {
   "cell_type": "code",
   "execution_count": null,
   "metadata": {
    "vscode": {
     "languageId": "rust"
    }
   },
   "outputs": [],
   "source": [
    ":dep toml\n",
    ":dep serde\n",
    ":dep serde_derive"
   ]
  },
  {
   "cell_type": "code",
   "execution_count": null,
   "metadata": {
    "vscode": {
     "languageId": "rust"
    }
   },
   "outputs": [],
   "source": [
    "l return the files text as `contents`.\n",
    "        // `c` is a local variable.\n",
    "        Ok(c) => c,\n",
    "        // Handle the `err// Import the required dependencies.\n",
    "use serde_derive::Deserialize;\n",
    "use std::fs;\n",
    "use std::process::exit;\n",
    "use toml;\n",
    "\n",
    "// Top level struct to hold the TOML data.\n",
    "#[derive(Deserialize)]\n",
    "struct Data {\n",
    "    config: Config,\n",
    "}\n",
    "\n",
    "// Config struct holds to data from the `[config]` section.\n",
    "#[derive(Deserialize)]\n",
    "struct Config {\n",
    "    ip: String,\n",
    "    port: u16,\n",
    "}\n",
    "\n",
    "fn main() {\n",
    "    // Variable that holds the filename as a `&str`.\n",
    "    let filename = \"test.toml\";\n",
    "\n",
    "    // Read the contents of the file using a `match` block \n",
    "    // to return the `data: Ok(c)` as a `String` \n",
    "    // or handle any `errors: Err(_)`.\n",
    "    let contents = match fs::read_to_string(filename) {\n",
    "        // If successfuor` case.\n",
    "        Err(_) => {\n",
    "            // Write `msg` to `stderr`.\n",
    "            eprintln!(\"Could not read file `{}`\", filename);\n",
    "            // Exit the program with exit code `1`.\n",
    "            exit(1);\n",
    "        }\n",
    "    };\n",
    "\n",
    "    // Use a `match` block to return the \n",
    "    // file `contents` as a `Data struct: Ok(d)`\n",
    "    // or handle any `errors: Err(_)`.\n",
    "    let data: Data = match toml::from_str(&contents) {\n",
    "        // If successful, return data as `Data` struct.\n",
    "        // `d` is a local variable.\n",
    "        Ok(d) => d,\n",
    "        // Handle the `error` case.\n",
    "        Err(_) => {\n",
    "            // Write `msg` to `stderr`.\n",
    "            eprintln!(\"Unable to load data from `{}`\", filename);\n",
    "            // Exit the program with exit code `1`.\n",
    "            exit(1);\n",
    "        }\n",
    "    };\n",
    "\n",
    "    // Print out the values to `stdout`.\n",
    "    println!(\"{}\", data.config.ip); // => 42.69.42.0\n",
    "    println!(\"{}\", data.config.port); // => 42\n",
    "}"
   ]
  },
  {
   "cell_type": "code",
   "execution_count": null,
   "metadata": {
    "vscode": {
     "languageId": "rust"
    }
   },
   "outputs": [],
   "source": [
    "main()"
   ]
  },
  {
   "cell_type": "code",
   "execution_count": null,
   "metadata": {
    "vscode": {
     "languageId": "rust"
    }
   },
   "outputs": [],
   "source": []
  },
  {
   "cell_type": "code",
   "execution_count": null,
   "metadata": {
    "vscode": {
     "languageId": "rust"
    }
   },
   "outputs": [],
   "source": [
    "use std::collections::HashMap;\n",
    "//use std::str::FromStr;\n",
    "//use toml::de::from_str\n",
    "\n",
    "use serde_derive::Deserialize;\n",
    "use toml::from_str;\n",
    "use toml::value::Table;\n",
    "\n",
    "#[derive(Debug)]\n",
    "#[derive(Deserialize)]\n",
    "struct Item {\n",
    "    foo: u64,\n",
    "    bar: u64,\n",
    "}\n",
    "\n",
    "fn main_table() {\n",
    "    let items_string: &str = \"[[items]]\\nfoo = 10\\nbar = 100\\n\\n[[items]]\\nfoo = 12\\nbar = 144\\n\";\n",
    "    let items_table: HashMap<String, Vec<Item>> = from_str(items_string).unwrap();\n",
    "    let items: &[Item] = &items_table[\"items\"];\n",
    "\n",
    "    println!(\"{:?}\", items_table);\n",
    "    println!(\"{:?}\", items);\n",
    "}"
   ]
  },
  {
   "cell_type": "code",
   "execution_count": null,
   "metadata": {
    "vscode": {
     "languageId": "rust"
    }
   },
   "outputs": [],
   "source": [
    "main_table();"
   ]
  },
  {
   "cell_type": "code",
   "execution_count": null,
   "metadata": {
    "vscode": {
     "languageId": "rust"
    }
   },
   "outputs": [],
   "source": [
    "use std::fs::File;\n",
    "use std::io::prelude::*;\n",
    "\n",
    "fn create_file() -> std::io::Result<()> {\n",
    "    \n",
    "    Ok(())\n",
    "}"
   ]
  },
  {
   "cell_type": "markdown",
   "metadata": {},
   "source": [
    "#file for 1.Test"
   ]
  },
  {
   "cell_type": "code",
   "execution_count": null,
   "metadata": {
    "vscode": {
     "languageId": "rust"
    }
   },
   "outputs": [],
   "source": [
    "use std::fs::File;\n",
    "use std::io::prelude::*;\n",
    "\n",
    "fn create_file() -> std::io::Result<()> {\n",
    "    let mut file = File::create(\"codingpackets.toml\")?;\n",
    "    //file.write_all(b\"[[items]]\\nfoo = 10\\nbar = 100\\n\\n[[items]]\\nfoo = 12\\nbar = 144\\n\")?;\n",
    "    file.write_all(b\"[config]\\nip = \\\"42.69.42.0\\\"\\nport = 69\")?;\n",
    "\n",
    "    Ok(())\n",
    "}"
   ]
  },
  {
   "cell_type": "code",
   "execution_count": null,
   "metadata": {
    "vscode": {
     "languageId": "rust"
    }
   },
   "outputs": [],
   "source": [
    "create_file();"
   ]
  },
  {
   "cell_type": "markdown",
   "metadata": {},
   "source": [
    "#file read to string"
   ]
  },
  {
   "cell_type": "markdown",
   "metadata": {},
   "source": [
    "#[from here](https://codingpackets.com/blog/rust-load-a-toml-file/)"
   ]
  },
  {
   "cell_type": "code",
   "execution_count": null,
   "metadata": {
    "vscode": {
     "languageId": "rust"
    }
   },
   "outputs": [],
   "source": [
    "// Import the required dependencies.\n",
    "use serde_derive::Deserialize;\n",
    "use std::fs;\n",
    "use std::process::exit;\n",
    "use toml;\n",
    "\n",
    "// Top level struct to hold the TOML data.\n",
    "#[derive(Deserialize)]\n",
    "struct Data {\n",
    "    config: Config,\n",
    "}\n",
    "\n",
    "// Config struct holds to data from the `[config]` section.\n",
    "#[derive(Deserialize)]\n",
    "struct Config {\n",
    "    ip: String,\n",
    "    port: u16,\n",
    "}\n",
    "\n",
    "fn file_to_struct() {\n",
    "    // Variable that holds the filename as a `&str`.\n",
    "    let filename = \"./codingpackets.toml\";\n",
    "\n",
    "    // Read the contents of the file using a `match` block \n",
    "    // to return the `data: Ok(c)` as a `String` \n",
    "    // or handle any `errors: Err(_)`.\n",
    "    let contents = match fs::read_to_string(filename) {\n",
    "        // If successful return the files text as `contents`.\n",
    "        // `c` is a local variable.\n",
    "        Ok(c) => c,\n",
    "        // Handle the `error` case.\n",
    "        Err(_) => {\n",
    "            // Write `msg` to `stderr`.\n",
    "            eprintln!(\"Could not read file `{}`\", filename);\n",
    "            // Exit the program with exit code `1`.\n",
    "            exit(1);\n",
    "        }\n",
    "    };\n",
    "\n",
    "    println!(\"{:?}\", &contents);\n",
    "    // Use a `match` block to return the \n",
    "    // file `contents` as a `Data struct: Ok(d)`\n",
    "    // or handle any `errors: Err(_)`.\n",
    "    let data: Data = match toml::from_str(&contents) {\n",
    "        // If successful, return data as `Data` struct.\n",
    "        // `d` is a local variable.\n",
    "        Ok(d) => d,\n",
    "        // Handle the `error` case.\n",
    "        Err(_) => {\n",
    "            // Write `msg` to `stderr`.\n",
    "            eprintln!(\"Unable to load data from `{}`\", filename);\n",
    "            // Exit the program with exit code `1`.\n",
    "            exit(1);\n",
    "        }\n",
    "    };\n",
    "\n",
    "    // Print out the values to `stdout`.\n",
    "    println!(\"{}\", data.config.ip); // => 42.69.42.0\n",
    "    println!(\"{}\", data.config.port); // => 42\n",
    "}"
   ]
  },
  {
   "cell_type": "code",
   "execution_count": null,
   "metadata": {
    "vscode": {
     "languageId": "rust"
    }
   },
   "outputs": [],
   "source": [
    "file_to_struct();"
   ]
  },
  {
   "cell_type": "markdown",
   "metadata": {},
   "source": [
    "#show dirs inside the current directory"
   ]
  },
  {
   "cell_type": "code",
   "execution_count": null,
   "metadata": {
    "vscode": {
     "languageId": "rust"
    }
   },
   "outputs": [],
   "source": [
    "use std::{fs, io};\n",
    "\n",
    "fn read_dirs() -> io::Result<()> {\n",
    "    let mut entries = fs::read_dir(\".\")?\n",
    "        .map(|res| res.map(|e| e.path()))\n",
    "        .collect::<Result<Vec<_>, io::Error>>()?;\n",
    "\n",
    "    // The order in which `read_dir` returns entries is not guaranteed. If reproducible\n",
    "    // ordering is required the entries should be explicitly sorted.\n",
    "\n",
    "    entries.sort();\n",
    "\n",
    "    //println!(\"{}\",entries);\n",
    "    // The entries have now been sorted by their path.\n",
    "    println!(\"{:?}\", entries);\n",
    "    Ok(())\n",
    "}"
   ]
  },
  {
   "cell_type": "code",
   "execution_count": null,
   "metadata": {
    "vscode": {
     "languageId": "rust"
    }
   },
   "outputs": [],
   "source": [
    "read_dirs();"
   ]
  },
  {
   "cell_type": "code",
   "execution_count": null,
   "metadata": {
    "vscode": {
     "languageId": "rust"
    }
   },
   "outputs": [],
   "source": [
    "fn file_to_struct_table() {\n",
    "    // Variable that holds the filename as a `&str`.\n",
    "    let filename = \"./foo.toml\";\n",
    "\n",
    "    // Read the contents of the file using a `match` block \n",
    "    // to return the `data: Ok(c)` as a `String` \n",
    "    // or handle any `errors: Err(_)`.\n",
    "    let contents = match fs::read_to_string(filename) {\n",
    "        // If successful return the files text as `contents`.\n",
    "        // `c` is a local variable.\n",
    "        Ok(c) => c,\n",
    "        // Handle the `error` case.\n",
    "        Err(_) => {\n",
    "            // Write `msg` to `stderr`.\n",
    "            eprintln!(\"Could not read file `{}`\", filename);\n",
    "            // Exit the program with exit code `1`.\n",
    "            exit(1);\n",
    "        }\n",
    "    };\n",
    "    println!(\"{:?}\",contents);\n",
    "    let data: Data = match toml::from_str(&contents) {\n",
    "        // If successful, return data as `Data` struct.\n",
    "        // `d` is a local variable.\n",
    "        Ok(d) => d,\n",
    "        // Handle the `error` case.\n",
    "        Err(_) => {\n",
    "            // Write `msg` to `stderr`.\n",
    "            eprintln!(\"Unable to load data from `{}`\", filename);\n",
    "            // Exit the program with exit code `1`.\n",
    "            exit(1);\n",
    "        }\n",
    "    };\n",
    "\n",
    "    // Print out the values to `stdout`.\n",
    "    println!(\"{}\", data.config.ip); // => 42.69.42.0\n",
    "    println!(\"{}\", data.config.port); // => 42\n",
    "}\n",
    "\n"
   ]
  },
  {
   "cell_type": "code",
   "execution_count": null,
   "metadata": {
    "vscode": {
     "languageId": "rust"
    }
   },
   "outputs": [],
   "source": [
    "file_to_struct_table();"
   ]
  },
  {
   "cell_type": "markdown",
   "metadata": {},
   "source": [
    "[How to parse TOML in Rust with unknown structure?](https://stackoverflow.com/questions/72690767/how-to-parse-toml-in-rust-with-unknown-structure)"
   ]
  },
  {
   "cell_type": "markdown",
   "metadata": {},
   "source": [
    "[another sample](https://users.rust-lang.org/t/how-to-deserialize-nested-toml-structures-into-custom-structs/65920)"
   ]
  },
  {
   "cell_type": "markdown",
   "metadata": {},
   "source": [
    "[finish example](https://play.rust-lang.org/?version=stable&mode=debug&edition=2018&gist=b26972b6cfdd7685e59a95cfb7061e76)"
   ]
  },
  {
   "cell_type": "code",
   "execution_count": null,
   "metadata": {
    "vscode": {
     "languageId": "rust"
    }
   },
   "outputs": [],
   "source": [
    ":dep toml\n",
    ":dep serde\n",
    ":dep serde_derive"
   ]
  },
  {
   "cell_type": "code",
   "execution_count": null,
   "metadata": {
    "vscode": {
     "languageId": "rust"
    }
   },
   "outputs": [],
   "source": [
    "use serde_derive::Deserialize;\n",
    "//use serde::Deserialize;\n",
    "use std::collections::HashMap;\n",
    "use toml;\n",
    "\n",
    "#[derive(Debug, Deserialize)]\n",
    "struct Toys {\n",
    "    balls: u8,\n",
    "    bricks: u8,\n",
    "    cars: HashMap<String, Car>,\n",
    "    trucks: HashMap<String, Truck>,\n",
    "}\n",
    "\n",
    "#[derive(Debug, Deserialize)]\n",
    "struct Car {\n",
    "    color: String,\n",
    "    speed: u8,\n",
    "}\n",
    "\n",
    "#[derive(Debug, Deserialize)]\n",
    "struct Truck {\n",
    "    load: u16,\n",
    "    hp: u16,\n",
    "}\n",
    "\n",
    "const TEXT: &str = r#\"\n",
    "another_value=\"select one\"\n",
    "balls = 5\n",
    "bricks = 250\n",
    "[cars]\n",
    "  [cars.car1]\n",
    "  color = \"green\"\n",
    "  speed = 3\n",
    "  [cars.car2]\n",
    "  color = \"red\"\n",
    "  speed = 10\n",
    "[trucks]\n",
    "  [trucks.truck1]\n",
    "  load = 15\n",
    "  hp = 670\n",
    "  [trucks.truck2]\n",
    "  load = 25\n",
    "  hp = 800\n",
    "\"#;\n",
    "\n",
    "fn main_tags() {\n",
    "    let toys: Toys = toml::from_str(TEXT).unwrap();\n",
    "    println!(\"{:#?}\", toys);\n",
    "}\n"
   ]
  },
  {
   "cell_type": "code",
   "execution_count": null,
   "metadata": {
    "vscode": {
     "languageId": "rust"
    }
   },
   "outputs": [],
   "source": [
    "main_tags();"
   ]
  },
  {
   "cell_type": "markdown",
   "metadata": {},
   "source": [
    "#folder for screener"
   ]
  },
  {
   "cell_type": "code",
   "execution_count": 4,
   "metadata": {
    "vscode": {
     "languageId": "rust"
    }
   },
   "outputs": [
    {
     "ename": "Error",
     "evalue": "unresolved import `toml`",
     "output_type": "error",
     "traceback": [
      "\u001b[31m[E0432] Error:\u001b[0m unresolved import `toml`"
     ]
    },
    {
     "ename": "Error",
     "evalue": "unresolved import `serde_derive`",
     "output_type": "error",
     "traceback": [
      "\u001b[31m[E0432] Error:\u001b[0m unresolved import `serde_derive`"
     ]
    },
    {
     "ename": "Error",
     "evalue": "cannot determine resolution for the derive macro `Deserialize`",
     "output_type": "error",
     "traceback": [
      "\u001b[31mError:\u001b[0m cannot determine resolution for the derive macro `Deserialize`",
      "   \u001b[38;5;246m╭\u001b[0m\u001b[38;5;246m─\u001b[0m\u001b[38;5;246m[\u001b[0mcommand_4:1:1\u001b[38;5;246m]\u001b[0m",
      "   \u001b[38;5;246m│\u001b[0m",
      " \u001b[38;5;246m7 │\u001b[0m \u001b[38;5;249m#\u001b[0m\u001b[38;5;249m[\u001b[0m\u001b[38;5;249md\u001b[0m\u001b[38;5;249me\u001b[0m\u001b[38;5;249mr\u001b[0m\u001b[38;5;249mi\u001b[0m\u001b[38;5;249mv\u001b[0m\u001b[38;5;249me\u001b[0m\u001b[38;5;249m(\u001b[0m\u001b[38;5;249mD\u001b[0m\u001b[38;5;249me\u001b[0m\u001b[38;5;249mb\u001b[0m\u001b[38;5;249mu\u001b[0m\u001b[38;5;249mg\u001b[0m\u001b[38;5;249m,\u001b[0m\u001b[38;5;249m \u001b[0m\u001b[38;5;54mD\u001b[0m\u001b[38;5;54me\u001b[0m\u001b[38;5;54ms\u001b[0m\u001b[38;5;54me\u001b[0m\u001b[38;5;54mr\u001b[0m\u001b[38;5;54mi\u001b[0m\u001b[38;5;54ma\u001b[0m\u001b[38;5;54ml\u001b[0m\u001b[38;5;54mi\u001b[0m\u001b[38;5;54mz\u001b[0m\u001b[38;5;54me\u001b[0m\u001b[38;5;249m)\u001b[0m\u001b[38;5;249m]\u001b[0m",
      " \u001b[38;5;240m  │\u001b[0m                 \u001b[38;5;54m─\u001b[0m\u001b[38;5;54m─\u001b[0m\u001b[38;5;54m─\u001b[0m\u001b[38;5;54m─\u001b[0m\u001b[38;5;54m─\u001b[0m\u001b[38;5;54m┬\u001b[0m\u001b[38;5;54m─\u001b[0m\u001b[38;5;54m─\u001b[0m\u001b[38;5;54m─\u001b[0m\u001b[38;5;54m─\u001b[0m\u001b[38;5;54m─\u001b[0m  ",
      " \u001b[38;5;240m  │\u001b[0m                      \u001b[38;5;54m╰\u001b[0m\u001b[38;5;54m─\u001b[0m\u001b[38;5;54m─\u001b[0m\u001b[38;5;54m─\u001b[0m\u001b[38;5;54m─\u001b[0m\u001b[38;5;54m─\u001b[0m\u001b[38;5;54m─\u001b[0m\u001b[38;5;54m─\u001b[0m error: cannot determine resolution for the derive macro `Deserialize`",
      "\u001b[38;5;246m───╯\u001b[0m"
     ]
    },
    {
     "ename": "Error",
     "evalue": "cannot determine resolution for the derive macro `Deserialize`",
     "output_type": "error",
     "traceback": [
      "\u001b[31mError:\u001b[0m cannot determine resolution for the derive macro `Deserialize`",
      "    \u001b[38;5;246m╭\u001b[0m\u001b[38;5;246m─\u001b[0m\u001b[38;5;246m[\u001b[0mcommand_4:1:1\u001b[38;5;246m]\u001b[0m",
      "    \u001b[38;5;246m│\u001b[0m",
      " \u001b[38;5;246m21 │\u001b[0m \u001b[38;5;249m#\u001b[0m\u001b[38;5;249m[\u001b[0m\u001b[38;5;249md\u001b[0m\u001b[38;5;249me\u001b[0m\u001b[38;5;249mr\u001b[0m\u001b[38;5;249mi\u001b[0m\u001b[38;5;249mv\u001b[0m\u001b[38;5;249me\u001b[0m\u001b[38;5;249m(\u001b[0m\u001b[38;5;249mD\u001b[0m\u001b[38;5;249me\u001b[0m\u001b[38;5;249mb\u001b[0m\u001b[38;5;249mu\u001b[0m\u001b[38;5;249mg\u001b[0m\u001b[38;5;249m,\u001b[0m\u001b[38;5;249m \u001b[0m\u001b[38;5;54mD\u001b[0m\u001b[38;5;54me\u001b[0m\u001b[38;5;54ms\u001b[0m\u001b[38;5;54me\u001b[0m\u001b[38;5;54mr\u001b[0m\u001b[38;5;54mi\u001b[0m\u001b[38;5;54ma\u001b[0m\u001b[38;5;54ml\u001b[0m\u001b[38;5;54mi\u001b[0m\u001b[38;5;54mz\u001b[0m\u001b[38;5;54me\u001b[0m\u001b[38;5;249m)\u001b[0m\u001b[38;5;249m]\u001b[0m",
      " \u001b[38;5;240m   │\u001b[0m                 \u001b[38;5;54m─\u001b[0m\u001b[38;5;54m─\u001b[0m\u001b[38;5;54m─\u001b[0m\u001b[38;5;54m─\u001b[0m\u001b[38;5;54m─\u001b[0m\u001b[38;5;54m┬\u001b[0m\u001b[38;5;54m─\u001b[0m\u001b[38;5;54m─\u001b[0m\u001b[38;5;54m─\u001b[0m\u001b[38;5;54m─\u001b[0m\u001b[38;5;54m─\u001b[0m  ",
      " \u001b[38;5;240m   │\u001b[0m                      \u001b[38;5;54m╰\u001b[0m\u001b[38;5;54m─\u001b[0m\u001b[38;5;54m─\u001b[0m\u001b[38;5;54m─\u001b[0m\u001b[38;5;54m─\u001b[0m\u001b[38;5;54m─\u001b[0m\u001b[38;5;54m─\u001b[0m\u001b[38;5;54m─\u001b[0m error: cannot determine resolution for the derive macro `Deserialize`",
      "\u001b[38;5;246m────╯\u001b[0m"
     ]
    },
    {
     "ename": "Error",
     "evalue": "cannot determine resolution for the derive macro `Deserialize`",
     "output_type": "error",
     "traceback": [
      "\u001b[31mError:\u001b[0m cannot determine resolution for the derive macro `Deserialize`",
      "    \u001b[38;5;246m╭\u001b[0m\u001b[38;5;246m─\u001b[0m\u001b[38;5;246m[\u001b[0mcommand_4:1:1\u001b[38;5;246m]\u001b[0m",
      "    \u001b[38;5;246m│\u001b[0m",
      " \u001b[38;5;246m49 │\u001b[0m \u001b[38;5;249m \u001b[0m\u001b[38;5;249m \u001b[0m\u001b[38;5;249m \u001b[0m\u001b[38;5;249m \u001b[0m\u001b[38;5;249m#\u001b[0m\u001b[38;5;249m[\u001b[0m\u001b[38;5;249md\u001b[0m\u001b[38;5;249me\u001b[0m\u001b[38;5;249mr\u001b[0m\u001b[38;5;249mi\u001b[0m\u001b[38;5;249mv\u001b[0m\u001b[38;5;249me\u001b[0m\u001b[38;5;249m(\u001b[0m\u001b[38;5;249mD\u001b[0m\u001b[38;5;249me\u001b[0m\u001b[38;5;249mb\u001b[0m\u001b[38;5;249mu\u001b[0m\u001b[38;5;249mg\u001b[0m\u001b[38;5;249m,\u001b[0m\u001b[38;5;249m \u001b[0m\u001b[38;5;54mD\u001b[0m\u001b[38;5;54me\u001b[0m\u001b[38;5;54ms\u001b[0m\u001b[38;5;54me\u001b[0m\u001b[38;5;54mr\u001b[0m\u001b[38;5;54mi\u001b[0m\u001b[38;5;54ma\u001b[0m\u001b[38;5;54ml\u001b[0m\u001b[38;5;54mi\u001b[0m\u001b[38;5;54mz\u001b[0m\u001b[38;5;54me\u001b[0m\u001b[38;5;249m)\u001b[0m\u001b[38;5;249m]\u001b[0m",
      " \u001b[38;5;240m   │\u001b[0m                     \u001b[38;5;54m─\u001b[0m\u001b[38;5;54m─\u001b[0m\u001b[38;5;54m─\u001b[0m\u001b[38;5;54m─\u001b[0m\u001b[38;5;54m─\u001b[0m\u001b[38;5;54m┬\u001b[0m\u001b[38;5;54m─\u001b[0m\u001b[38;5;54m─\u001b[0m\u001b[38;5;54m─\u001b[0m\u001b[38;5;54m─\u001b[0m\u001b[38;5;54m─\u001b[0m  ",
      " \u001b[38;5;240m   │\u001b[0m                          \u001b[38;5;54m╰\u001b[0m\u001b[38;5;54m─\u001b[0m\u001b[38;5;54m─\u001b[0m\u001b[38;5;54m─\u001b[0m\u001b[38;5;54m─\u001b[0m\u001b[38;5;54m─\u001b[0m\u001b[38;5;54m─\u001b[0m\u001b[38;5;54m─\u001b[0m error: cannot determine resolution for the derive macro `Deserialize`",
      "\u001b[38;5;246m────╯\u001b[0m"
     ]
    },
    {
     "ename": "Error",
     "evalue": "cannot determine resolution for the derive macro `Deserialize`",
     "output_type": "error",
     "traceback": [
      "\u001b[31mError:\u001b[0m cannot determine resolution for the derive macro `Deserialize`",
      "    \u001b[38;5;246m╭\u001b[0m\u001b[38;5;246m─\u001b[0m\u001b[38;5;246m[\u001b[0mcommand_4:1:1\u001b[38;5;246m]\u001b[0m",
      "    \u001b[38;5;246m│\u001b[0m",
      " \u001b[38;5;246m36 │\u001b[0m \u001b[38;5;249m#\u001b[0m\u001b[38;5;249m[\u001b[0m\u001b[38;5;249md\u001b[0m\u001b[38;5;249me\u001b[0m\u001b[38;5;249mr\u001b[0m\u001b[38;5;249mi\u001b[0m\u001b[38;5;249mv\u001b[0m\u001b[38;5;249me\u001b[0m\u001b[38;5;249m(\u001b[0m\u001b[38;5;249mD\u001b[0m\u001b[38;5;249me\u001b[0m\u001b[38;5;249mb\u001b[0m\u001b[38;5;249mu\u001b[0m\u001b[38;5;249mg\u001b[0m\u001b[38;5;249m,\u001b[0m\u001b[38;5;249m \u001b[0m\u001b[38;5;54mD\u001b[0m\u001b[38;5;54me\u001b[0m\u001b[38;5;54ms\u001b[0m\u001b[38;5;54me\u001b[0m\u001b[38;5;54mr\u001b[0m\u001b[38;5;54mi\u001b[0m\u001b[38;5;54ma\u001b[0m\u001b[38;5;54ml\u001b[0m\u001b[38;5;54mi\u001b[0m\u001b[38;5;54mz\u001b[0m\u001b[38;5;54me\u001b[0m\u001b[38;5;249m)\u001b[0m\u001b[38;5;249m]\u001b[0m",
      " \u001b[38;5;240m   │\u001b[0m                 \u001b[38;5;54m─\u001b[0m\u001b[38;5;54m─\u001b[0m\u001b[38;5;54m─\u001b[0m\u001b[38;5;54m─\u001b[0m\u001b[38;5;54m─\u001b[0m\u001b[38;5;54m┬\u001b[0m\u001b[38;5;54m─\u001b[0m\u001b[38;5;54m─\u001b[0m\u001b[38;5;54m─\u001b[0m\u001b[38;5;54m─\u001b[0m\u001b[38;5;54m─\u001b[0m  ",
      " \u001b[38;5;240m   │\u001b[0m                      \u001b[38;5;54m╰\u001b[0m\u001b[38;5;54m─\u001b[0m\u001b[38;5;54m─\u001b[0m\u001b[38;5;54m─\u001b[0m\u001b[38;5;54m─\u001b[0m\u001b[38;5;54m─\u001b[0m\u001b[38;5;54m─\u001b[0m\u001b[38;5;54m─\u001b[0m error: cannot determine resolution for the derive macro `Deserialize`",
      "\u001b[38;5;246m────╯\u001b[0m"
     ]
    }
   ],
   "source": [
    "use serde_derive::Deserialize;\n",
    "//use serde::Deserialize;\n",
    "use std::collections::HashMap;\n",
    "use toml;\n",
    "\n",
    "//Main struct\n",
    "#[derive(Debug, Deserialize)]\n",
    "struct Screener {\n",
    "    url_for_screener: String,\n",
    "    protocol: String, // #TODO! String or Enum\n",
    "    path: HashMap<String, Path>,\n",
    "    parameter: HashMap<String, Parameter>,\n",
    "}\n",
    "/*[parameter]\n",
    "  [screener.setting1]\n",
    "  field = \"name\"\n",
    "  value = \"val\"\n",
    "  timeout = 10\n",
    "  reload = yes # or no */\n",
    "\n",
    "#[derive(Debug, Deserialize)]\n",
    "struct Parameter{\n",
    "    field: String,\n",
    "    value: String,\n",
    "    timeout:u16,\n",
    "    reload:String, // #TODO String enum\n",
    "}\n",
    "/*\n",
    "[path]\n",
    "  [path.step1]\n",
    "  link_xpath = \"\"\n",
    "  action = \"click\" # enum: click,dropdown,select\n",
    "  action_value = \"\"\n",
    "*/\n",
    "\n",
    "#[derive(Debug, Deserialize)]\n",
    "struct Path {\n",
    "    link_xpath: String,\n",
    "    action: String, // #TODO String or enum\n",
    "    action_value:String,\n",
    "    }\n",
    "\n",
    "    /*\n",
    "    [output]\n",
    "    [column1]\n",
    "    name = \"NAME\"\n",
    "    format = \"FORMAT\"\n",
    "    */\n",
    "    #[derive(Debug, Deserialize)]\n",
    "    struct Output {\n",
    "        name: String,\n",
    "        format: String, // #TODO String or enum\n",
    "        }\n",
    "\n",
    "\n",
    "const TEXT: &str = r#\"\n",
    "url_for_screener = \"https://finviz.com/\"\n",
    "protocol = \"https\"\n",
    "timeout = 3600\n",
    "[path]\n",
    "  [path.step1]\n",
    "  link_xpath = \"\"\n",
    "  action = \"click\" # enum: click,dropdown,select\n",
    "  action_value = \"\"\n",
    "  [path.step2]\n",
    "  link_xpath = \"\"\n",
    "  action = \"click\" # enum click,dropdown,select\n",
    "  action_value = \"\"\n",
    "  \n",
    "[parameter]\n",
    "  [parameter.setting1]\n",
    "  field = \"name\"\n",
    "  value = \"val\"\n",
    "  timeout = 10\n",
    "  reload = yes # or no\n",
    "  [screener.setting2]\n",
    "  field = \"name\"\n",
    "  value = \"val\"\n",
    "  timeout = 10\n",
    "  reload = yes # or no\n",
    "\n",
    "[output]\n",
    "    [column1]\n",
    "    name = \"NAME\"\n",
    "    format = \"FORMAT\"\n",
    "\"#;\n",
    "\n",
    "fn main_tags() {\n",
    "    // from here\n",
    "    // https://doc.rust-lang.org/rust-by-example/error/result.html\n",
    "    let screener: Screener = toml::from_str(TEXT).unwrap() ;\n",
    "    println!(\"{:#?}\", screener);\n",
    "}"
   ]
  },
  {
   "cell_type": "code",
   "execution_count": 3,
   "metadata": {
    "vscode": {
     "languageId": "rust"
    }
   },
   "outputs": [
    {
     "ename": "Error",
     "evalue": "cannot find function `main_tags` in this scope",
     "output_type": "error",
     "traceback": [
      "\u001b[31m[E0425] Error:\u001b[0m cannot find function `main_tags` in this scope",
      "   \u001b[38;5;246m╭\u001b[0m\u001b[38;5;246m─\u001b[0m\u001b[38;5;246m[\u001b[0mcommand_3:1:1\u001b[38;5;246m]\u001b[0m",
      "   \u001b[38;5;246m│\u001b[0m",
      " \u001b[38;5;246m2 │\u001b[0m \u001b[38;5;54mm\u001b[0m\u001b[38;5;54ma\u001b[0m\u001b[38;5;54mi\u001b[0m\u001b[38;5;54mn\u001b[0m\u001b[38;5;54m_\u001b[0m\u001b[38;5;54mt\u001b[0m\u001b[38;5;54ma\u001b[0m\u001b[38;5;54mg\u001b[0m\u001b[38;5;54ms\u001b[0m\u001b[38;5;249m(\u001b[0m\u001b[38;5;249m)\u001b[0m\u001b[38;5;249m;\u001b[0m",
      " \u001b[38;5;240m  │\u001b[0m \u001b[38;5;54m─\u001b[0m\u001b[38;5;54m─\u001b[0m\u001b[38;5;54m─\u001b[0m\u001b[38;5;54m─\u001b[0m\u001b[38;5;54m┬\u001b[0m\u001b[38;5;54m─\u001b[0m\u001b[38;5;54m─\u001b[0m\u001b[38;5;54m─\u001b[0m\u001b[38;5;54m─\u001b[0m  ",
      " \u001b[38;5;240m  │\u001b[0m     \u001b[38;5;54m╰\u001b[0m\u001b[38;5;54m─\u001b[0m\u001b[38;5;54m─\u001b[0m\u001b[38;5;54m─\u001b[0m\u001b[38;5;54m─\u001b[0m\u001b[38;5;54m─\u001b[0m\u001b[38;5;54m─\u001b[0m not found in this scope",
      "\u001b[38;5;246m───╯\u001b[0m"
     ]
    }
   ],
   "source": [
    "//RUST_BACKTRACE=full;\n",
    "main_tags();"
   ]
  }
 ],
 "metadata": {
  "kernelspec": {
   "display_name": "Rust",
   "language": "rust",
   "name": "rust"
  },
  "language_info": {
   "codemirror_mode": "rust",
   "file_extension": ".rs",
   "mimetype": "text/rust",
   "name": "Rust",
   "pygment_lexer": "rust",
   "version": ""
  },
  "orig_nbformat": 4
 },
 "nbformat": 4,
 "nbformat_minor": 2
}
