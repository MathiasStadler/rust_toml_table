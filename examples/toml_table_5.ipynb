{
 "cells": [
  {
   "cell_type": "markdown",
   "metadata": {},
   "source": [
    "# Test toml to struct\n",
    "## [From here](https://users.rust-lang.org/t/how-to-deserialize-nested-toml-structures-into-custom-structs/65920/2)"
   ]
  },
  {
   "cell_type": "code",
   "execution_count": 13,
   "metadata": {},
   "outputs": [
    {
     "ename": "Error",
     "evalue": "error: failed to parse manifest at `/tmp/.tmpypmAxU/Cargo.toml`\n\nCaused by:\n  could not parse input as TOML\n\nCaused by:\n  TOML parse error at line 11, column 7\n     |\n  11 |     fs; = \"*\"\n     |       ^\n  expected `.`, `=`",
     "output_type": "error",
     "traceback": [
      "\u001b[31mError:\u001b[0m error: failed to parse manifest at `/tmp/.tmpypmAxU/Cargo.toml`",
      "",
      "Caused by:",
      "  could not parse input as TOML",
      "",
      "Caused by:",
      "  TOML parse error at line 11, column 7",
      "     |",
      "  11 |     fs; = \"*\"",
      "     |       ^",
      "  expected `.`, `=`"
     ]
    }
   ],
   "source": [
    ":dep toml\n",
    ":dep serde\n",
    ":dep serde_derive\n"
   ]
  },
  {
   "cell_type": "code",
   "execution_count": 17,
   "metadata": {},
   "outputs": [
    {
     "ename": "Error",
     "evalue": "no field `0` on type `&Toys`",
     "output_type": "error",
     "traceback": [
      "\u001b[31m[E0609] Error:\u001b[0m no field `0` on type `&Toys`",
      "    \u001b[38;5;246m╭\u001b[0m\u001b[38;5;246m─\u001b[0m\u001b[38;5;246m[\u001b[0mcommand_17:1:1\u001b[38;5;246m]\u001b[0m",
      "    \u001b[38;5;246m│\u001b[0m",
      " \u001b[38;5;246m27 │\u001b[0m \u001b[38;5;249m \u001b[0m\u001b[38;5;249m \u001b[0m\u001b[38;5;249m \u001b[0m\u001b[38;5;249m \u001b[0m\u001b[38;5;249m \u001b[0m\u001b[38;5;249m \u001b[0m\u001b[38;5;249mw\u001b[0m\u001b[38;5;249mr\u001b[0m\u001b[38;5;249mi\u001b[0m\u001b[38;5;249mt\u001b[0m\u001b[38;5;249me\u001b[0m\u001b[38;5;249m!\u001b[0m\u001b[38;5;249m(\u001b[0m\u001b[38;5;249mf\u001b[0m\u001b[38;5;249m,\u001b[0m\u001b[38;5;249m \u001b[0m\u001b[38;5;249m\"\u001b[0m\u001b[38;5;249m{\u001b[0m\u001b[38;5;249m}\u001b[0m\u001b[38;5;249m\"\u001b[0m\u001b[38;5;249m,\u001b[0m\u001b[38;5;249m \u001b[0m\u001b[38;5;249ms\u001b[0m\u001b[38;5;249me\u001b[0m\u001b[38;5;249ml\u001b[0m\u001b[38;5;249mf\u001b[0m\u001b[38;5;249m.\u001b[0m\u001b[38;5;54m0\u001b[0m\u001b[38;5;249m)\u001b[0m",
      " \u001b[38;5;240m   │\u001b[0m                            \u001b[38;5;54m┬\u001b[0m  ",
      " \u001b[38;5;240m   │\u001b[0m                            \u001b[38;5;54m╰\u001b[0m\u001b[38;5;54m─\u001b[0m\u001b[38;5;54m─\u001b[0m unknown field",
      "\u001b[38;5;246m────╯\u001b[0m"
     ]
    },
    {
     "ename": "Error",
     "evalue": "mismatched types",
     "output_type": "error",
     "traceback": [
      "\u001b[31m[E0308] Error:\u001b[0m mismatched types",
      "    \u001b[38;5;246m╭\u001b[0m\u001b[38;5;246m─\u001b[0m\u001b[38;5;246m[\u001b[0mcommand_17:1:1\u001b[38;5;246m]\u001b[0m",
      "    \u001b[38;5;246m│\u001b[0m",
      " \u001b[38;5;246m87 │\u001b[0m \u001b[38;5;249m \u001b[0m\u001b[38;5;249m \u001b[0m\u001b[38;5;249m \u001b[0m\u001b[38;5;249m \u001b[0m\u001b[38;5;249mc\u001b[0m\u001b[38;5;249mo\u001b[0m\u001b[38;5;249mn\u001b[0m\u001b[38;5;249mf\u001b[0m\u001b[38;5;249mi\u001b[0m\u001b[38;5;249mg\u001b[0m\u001b[38;5;249m_\u001b[0m\u001b[38;5;249mf\u001b[0m\u001b[38;5;249mi\u001b[0m\u001b[38;5;249ml\u001b[0m\u001b[38;5;249me\u001b[0m\u001b[38;5;249m.\u001b[0m\u001b[38;5;100mw\u001b[0m\u001b[38;5;100mr\u001b[0m\u001b[38;5;100mi\u001b[0m\u001b[38;5;100mt\u001b[0m\u001b[38;5;100me\u001b[0m\u001b[38;5;100m_\u001b[0m\u001b[38;5;100ma\u001b[0m\u001b[38;5;100ml\u001b[0m\u001b[38;5;100ml\u001b[0m\u001b[38;5;249m(\u001b[0m\u001b[38;5;54mt\u001b[0m\u001b[38;5;54mo\u001b[0m\u001b[38;5;54my\u001b[0m\u001b[38;5;54ms\u001b[0m\u001b[38;5;249m)\u001b[0m\u001b[38;5;249m?\u001b[0m\u001b[38;5;249m;\u001b[0m",
      " \u001b[38;5;240m   │\u001b[0m                 \u001b[38;5;100m─\u001b[0m\u001b[38;5;100m─\u001b[0m\u001b[38;5;100m─\u001b[0m\u001b[38;5;100m─\u001b[0m\u001b[38;5;100m┬\u001b[0m\u001b[38;5;100m─\u001b[0m\u001b[38;5;100m─\u001b[0m\u001b[38;5;100m─\u001b[0m\u001b[38;5;100m─\u001b[0m \u001b[38;5;54m─\u001b[0m\u001b[38;5;54m─\u001b[0m\u001b[38;5;54m┬\u001b[0m\u001b[38;5;54m─\u001b[0m  ",
      " \u001b[38;5;240m   │\u001b[0m                     \u001b[38;5;100m╰\u001b[0m\u001b[38;5;100m─\u001b[0m\u001b[38;5;100m─\u001b[0m\u001b[38;5;100m─\u001b[0m\u001b[38;5;100m─\u001b[0m\u001b[38;5;100m─\u001b[0m\u001b[38;5;100m─\u001b[0m\u001b[38;5;100m─\u001b[0m\u001b[38;5;100m─\u001b[0m\u001b[38;5;100m─\u001b[0m\u001b[38;5;100m─\u001b[0m\u001b[38;5;100m─\u001b[0m arguments to this method are incorrect",
      " \u001b[38;5;240m   │\u001b[0m                             \u001b[38;5;54m│\u001b[0m   ",
      " \u001b[38;5;240m   │\u001b[0m                             \u001b[38;5;54m╰\u001b[0m\u001b[38;5;54m─\u001b[0m\u001b[38;5;54m─\u001b[0m\u001b[38;5;54m─\u001b[0m expected `&[u8]`, found `Toys`",
      " \u001b[38;5;240m   │\u001b[0m ",
      " \u001b[38;5;240m   │\u001b[0m \u001b[38;5;115mNote\u001b[0m: note: method defined here",
      "\u001b[38;5;246m────╯\u001b[0m"
     ]
    }
   ],
   "source": [
    "use std::fs::File;\n",
    "use std::io::prelude::*;\n",
    "use serde::{Serialize, Deserialize};\n",
    "use serde_derive::Deserialize;\n",
    "//use serde::Deserialize;\n",
    "use std::collections::HashMap;\n",
    "use toml;\n",
    "use std::fs;\n",
    "use std::fmt;\n",
    "\n",
    "#[derive(Debug, Deserialize)]\n",
    "struct Toys {\n",
    "    balls: u8,\n",
    "    bricks: u8,\n",
    "    cars: HashMap<String, Car>,\n",
    "    trucks: HashMap<String, Truck>,\n",
    "    demo: HashMap<String, Demo>,\n",
    "}\n",
    "\n",
    "impl fmt::Display for Toys {\n",
    "  // This trait requires `fmt` with this exact signature.\n",
    "  fn fmt(&self, f: &mut fmt::Formatter) -> fmt::Result {\n",
    "      // Write strictly the first element into the supplied output\n",
    "      // stream: `f`. Returns `fmt::Result` which indicates whether the\n",
    "      // operation succeeded or failed. Note that `write!` uses syntax which\n",
    "      // is very similar to `println!`.\n",
    "      write!(f, \"{}\", self.0)\n",
    "  }\n",
    "}\n",
    "\n",
    "\n",
    "#[derive(Debug, Deserialize)]\n",
    "struct Car {\n",
    "    color: String,\n",
    "    speed: u8,\n",
    "}\n",
    "\n",
    "#[derive(Debug, Deserialize)]\n",
    "struct Truck {\n",
    "    load: u16,\n",
    "    hp: u16,\n",
    "}\n",
    "\n",
    "#[derive(Debug, Deserialize)]\n",
    "struct Demo {\n",
    "    name: String,\n",
    "    \n",
    "}\n",
    "\n",
    "const TEXT: &str = r#\"\n",
    "another_value=\"select one\"\n",
    "balls = 5\n",
    "bricks = 250\n",
    "[cars]\n",
    "  [cars.car1]\n",
    "  color = \"green\"\n",
    "  speed = 3\n",
    "  [cars.car2]\n",
    "  color = \"red\"\n",
    "  speed = 10\n",
    "[trucks]\n",
    "  [trucks.truck1]\n",
    "  load = 15\n",
    "  hp = 670\n",
    "  [trucks.truck2]\n",
    "  load = 25\n",
    "  hp = 800\n",
    "[demo]\n",
    "  [demo.demo1]\n",
    "  name = \"Hallo\"\n",
    "\"#;\n",
    "\n",
    "\n",
    "\n",
    "\n",
    "\n",
    "fn main_tags() -> std::io::Result<()>{\n",
    "    let toys: Toys = toml::from_str(TEXT).unwrap();\n",
    "    let mut w = File::create(\"./output.txt\").unwrap();\n",
    "    println!(\"{:#?}\", toys);\n",
    "    \n",
    "    //\n",
    "    let mut config_file = fs::OpenOptions::new()\n",
    "        .write(true)\n",
    "        .truncate(true)\n",
    "        .open(\"./config.toml\")?;\n",
    "    config_file.write_all(toys)?;\n",
    "    config_file.flush()?;\n",
    "    \n",
    "    Ok(())\n",
    "}"
   ]
  },
  {
   "cell_type": "markdown",
   "metadata": {},
   "source": [
    "#[write toml to file](https://stackoverflow.com/questions/38405620/how-to-create-a-toml-file-from-rust)"
   ]
  },
  {
   "cell_type": "code",
   "execution_count": 8,
   "metadata": {},
   "outputs": [
    {
     "name": "stdout",
     "output_type": "stream",
     "text": [
      "Toys {\n",
      "    balls: 5,\n",
      "    bricks: 250,\n",
      "    cars: {\n",
      "        \"car1\": Car {\n",
      "            color: \"green\",\n",
      "            speed: 3,\n",
      "        },\n",
      "        \"car2\": Car {\n",
      "            color: \"red\",\n",
      "            speed: 10,\n",
      "        },\n",
      "    },\n",
      "    trucks: {\n",
      "        \"truck1\": Truck {\n",
      "            load: 15,\n",
      "            hp: 670,\n",
      "        },\n",
      "        \"truck2\": Truck {\n",
      "            load: 25,\n",
      "            hp: 800,\n",
      "        },\n",
      "    },\n",
      "    demo: {\n",
      "        \"demo1\": Demo {\n",
      "            name: \"Hallo\",\n",
      "        },\n",
      "    },\n",
      "}\n"
     ]
    }
   ],
   "source": [
    "main_tags();"
   ]
  },
  {
   "cell_type": "code",
   "execution_count": null,
   "metadata": {},
   "outputs": [],
   "source": [
    "use std::fs;\n",
    "use toml::{map::Map, Value}; // 0.5.1\n",
    "\n",
    "fn to_toml(v: Vec<(String, (String, u32))>) -> Value {\n",
    "    let mut servers = Map::new();\n",
    "    for (name, (ip_addr, port)) in v {\n",
    "        let mut server = Map::new();\n",
    "        server.insert(\"Ipaddr\".into(), Value::String(ip_addr));\n",
    "        server.insert(\"Port no\".into(), Value::Integer(port as i64));\n",
    "        servers.insert(name, Value::Table(server));\n",
    "    }\n",
    "\n",
    "    let mut map = Map::new();\n",
    "    map.insert(\"server\".into(), Value::Table(servers));\n",
    "    Value::Table(map)\n",
    "}\n",
    "\n",
    "fn main_file() {\n",
    "    let v = vec![\n",
    "        (\"A\".into(), (\"192.168.4.1\".into(), 4476)),\n",
    "        (\"B\".into(), (\"192.168.4.8\".into(), 1234)),\n",
    "    ];\n",
    "\n",
    "    let toml_string = toml::to_string(&to_toml(v)).expect(\"Could not encode TOML value\");\n",
    "    println!(\"{}\", toml_string);\n",
    "\n",
    "    //fs::write(\"servers.toml\", toml_string).expect(\"Could not write to file!\");\n",
    "}"
   ]
  },
  {
   "cell_type": "code",
   "execution_count": null,
   "metadata": {},
   "outputs": [],
   "source": [
    "main_file();"
   ]
  },
  {
   "cell_type": "code",
   "execution_count": null,
   "metadata": {},
   "outputs": [],
   "source": [
    "pub fn write<T: Any + Into<toml_edit::Value>>(\n",
    "    name: &str,\n",
    "    new_content: T,\n",
    ") -> Result<(), std::io::Error> {\n",
    "    let proj_dirs = ProjectDirs::from().unwrap();\n",
    "    let config_dir = proj_dirs.config_dir();\n",
    "    let config_file = fs::read_to_string(config_dir.join(\"config.toml\"))?;\n",
    "    let mut config_write = fs::OpenOptions::new()\n",
    "        .write(true)\n",
    "        .truncate(true)\n",
    "        .open(config_dir.join(\"config.toml\"))?;\n",
    "    let mut doc = config_file.parse::<Document>().expect(\"invalid document\");\n",
    "    doc[name] = value(new_content);\n",
    "    write!(config_write, \"{}\", doc.to_string())?;\n",
    "\n",
    "    Ok(())\n",
    "}\n",
    "\n",
    "fn write_file(){\n",
    "write();\n",
    "}"
   ]
  },
  {
   "cell_type": "code",
   "execution_count": null,
   "metadata": {},
   "outputs": [],
   "source": [
    "write_file();"
   ]
  },
  {
   "cell_type": "markdown",
   "metadata": {},
   "source": [
    "#hier weiter\n",
    "https://stackoverflow.com/questions/74090369/can-you-serialize-a-vector-of-stucts-to-toml-in-rust"
   ]
  }
 ],
 "metadata": {
  "kernelspec": {
   "display_name": "Rust",
   "language": "rust",
   "name": "rust"
  },
  "language_info": {
   "codemirror_mode": "rust",
   "file_extension": ".rs",
   "mimetype": "text/rust",
   "name": "rust",
   "pygment_lexer": "rust",
   "version": ""
  },
  "orig_nbformat": 4
 },
 "nbformat": 4,
 "nbformat_minor": 2
}
