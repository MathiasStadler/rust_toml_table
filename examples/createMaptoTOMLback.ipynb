{
 "cells": [
  {
   "cell_type": "markdown",
   "metadata": {},
   "source": [
    "[FROM HERE](https://github.com/MathiasStadler/my-only-thirtyfour/blob/master/examples/tokio_finviz.rs)"
   ]
  },
  {
   "cell_type": "markdown",
   "metadata": {},
   "source": [
    "# Motivation control FINVIZ.com stock screener via toml file"
   ]
  },
  {
   "cell_type": "markdown",
   "metadata": {},
   "source": [
    "## 1. create toml template file via jupyter notebook"
   ]
  },
  {
   "cell_type": "code",
   "execution_count": 2,
   "metadata": {
    "vscode": {
     "languageId": "rust"
    }
   },
   "outputs": [],
   "source": [
    ":dep serde = { version = \"1.0\", features = [\"derive\"] }\n",
    ":dep toml = \"0.7.6\"\n",
    ":dep log\n",
    ":dep serde_json "
   ]
  },
  {
   "cell_type": "code",
   "execution_count": 19,
   "metadata": {
    "vscode": {
     "languageId": "rust"
    }
   },
   "outputs": [],
   "source": [
    "use serde::{Deserialize, Serialize};\n",
    "use serde_json::json;\n",
    "use std::collections::HashMap;\n",
    "use toml::{map::Map, Value};\n",
    "\n",
    "#[derive(Debug, Serialize, Deserialize)]\n",
    "struct Filters {\n",
    "    filters: HashMap<String, Filter>,\n",
    "}\n",
    "\n",
    "#[derive(Debug, Serialize, Deserialize)]\n",
    "struct Filter {\n",
    "    fieldname: String,\n",
    "    value: String,\n",
    "}\n",
    "\n",
    "fn to_toml(v: Vec<(String, (String, String))>) -> Value {\n",
    "    let mut filters = Map::new();\n",
    "    for (name, (field_name, value)) in v {\n",
    "        let mut filter = Map::new();\n",
    "        filter.insert(\"fieldname\".into(), Value::String(field_name));\n",
    "        filter.insert(\"value\".into(), Value::String(value));\n",
    "        filters.insert(name, Value::Table(filter));\n",
    "    }\n",
    "    //method removed\n",
    "\n",
    "    let mut map = Map::new();\n",
    "    map.insert(\"filters\".into(), Value::Table(filters).clone());\n",
    "    Value::Table(map)\n",
    "}\n",
    "\n",
    "fn create_toml_str() {\n",
    "    let v = vec![\n",
    "        (\"A\".into(), (\"192.168.4.1\".into(), \"192.168.4.1\".into())),\n",
    "        (\"B\".into(), (\"192.168.4.8\".into(), \"192.168.4.1\".into())),\n",
    "    ];\n",
    "\n",
    "    //TOML output to shell\n",
    "    let my_string = &to_toml(v);\n",
    "    println!(\"DEBUG: my_string => {}\", my_string);\n",
    "    println!();\n",
    "    println!(\"TOML output:\");\n",
    "\n",
    "    //let toml_string = toml::to_string(&to_toml(v)).expect(\"Could not encode TOML value\");\n",
    "    let toml_string = toml::to_string(my_string).expect(\"Could not encode TOML value\");\n",
    "    println!(\"{}\", toml_string);\n",
    "\n",
    "    let config_deser: Filters = toml::de::from_str(&toml_string).unwrap();\n",
    "    println!(\"Deserialized: {:#?}\", config_deser);\n",
    "}\n"
   ]
  },
  {
   "cell_type": "code",
   "execution_count": 20,
   "metadata": {
    "vscode": {
     "languageId": "rust"
    }
   },
   "outputs": [
    {
     "name": "stdout",
     "output_type": "stream",
     "text": [
      "DEBUG: my_string => { filters = { A = { fieldname = \"192.168.4.1\", value = \"192.168.4.1\" }, B = { fieldname = \"192.168.4.8\", value = \"192.168.4.1\" } } }\n",
      "\n",
      "TOML output:\n",
      "[filters.A]\n",
      "fieldname = \"192.168.4.1\"\n",
      "value = \"192.168.4.1\"\n",
      "\n",
      "[filters.B]\n",
      "fieldname = \"192.168.4.8\"\n",
      "value = \"192.168.4.1\"\n",
      "\n",
      "Deserialized: Filters {\n",
      "    filters: {\n",
      "        \"A\": Filter {\n",
      "            fieldname: \"192.168.4.1\",\n",
      "            value: \"192.168.4.1\",\n",
      "        },\n",
      "        \"B\": Filter {\n",
      "            fieldname: \"192.168.4.8\",\n",
      "            value: \"192.168.4.1\",\n",
      "        },\n",
      "    },\n",
      "}\n"
     ]
    }
   ],
   "source": [
    "create_toml_str();"
   ]
  }
 ],
 "metadata": {
  "kernelspec": {
   "display_name": "Rust",
   "language": "rust",
   "name": "rust"
  },
  "language_info": {
   "codemirror_mode": "rust",
   "file_extension": ".rs",
   "mimetype": "text/rust",
   "name": "Rust",
   "pygment_lexer": "rust",
   "version": ""
  },
  "orig_nbformat": 4
 },
 "nbformat": 4,
 "nbformat_minor": 2
}
