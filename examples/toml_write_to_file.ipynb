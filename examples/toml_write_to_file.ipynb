{
 "cells": [
  {
   "cell_type": "markdown",
   "metadata": {},
   "source": [
    "[FROM HERe see above](https://www.makeuseof.com/working-with-toml-files-in-rust/)"
   ]
  },
  {
   "cell_type": "code",
   "execution_count": 4,
   "metadata": {
    "vscode": {
     "languageId": "rust"
    }
   },
   "outputs": [],
   "source": [
    ":dep serde = { version = \"1.0\", features = [\"derive\"] }\n",
    ":dep toml = \"0.7.6\""
   ]
  },
  {
   "cell_type": "code",
   "execution_count": 5,
   "metadata": {
    "vscode": {
     "languageId": "rust"
    }
   },
   "outputs": [],
   "source": [
    "use std::fs::File;\n",
    "use std::io::Write;\n",
    "use serde::Serialize;\n",
    "use toml::to_string;\n",
    "\n",
    "#[derive(Serialize)]\n",
    "struct ServerConfig {\n",
    "    host: String,\n",
    "    port: u16,\n",
    "    timeout: u32,\n",
    "}\n",
    "\n",
    "fn write_config_to_file(config: &ServerConfig, file_path: &str) -> Result<(), Box<dyn std::error::Error>> {\n",
    "    let toml_string = to_string(config)?;\n",
    "    let mut file = File::create(file_path)?;\n",
    "    file.write_all(toml_string.as_bytes())?;\n",
    "    Ok(())\n",
    "}\n",
    "\n",
    "fn main_to_file() {\n",
    "    let config = ServerConfig {\n",
    "        host: \"localhost\".to_owned(),\n",
    "        port: 8000,\n",
    "        timeout: 30,\n",
    "    };\n",
    "\n",
    "    if let Err(e) = write_config_to_file(&config, \"config.toml\") {\n",
    "        eprintln!(\"Error: {}\", e);\n",
    "    } else {\n",
    "        println!(\"Config file created successfully.\");\n",
    "    }\n",
    "}\n",
    "        \n",
    " "
   ]
  },
  {
   "cell_type": "code",
   "execution_count": 7,
   "metadata": {
    "vscode": {
     "languageId": "rust"
    }
   },
   "outputs": [
    {
     "name": "stdout",
     "output_type": "stream",
     "text": [
      "Config file created successfully.\n"
     ]
    }
   ],
   "source": [
    "main_to_file();"
   ]
  },
  {
   "cell_type": "code",
   "execution_count": 19,
   "metadata": {
    "vscode": {
     "languageId": "rust"
    }
   },
   "outputs": [],
   "source": [
    "use std::fs::File;\n",
    "use std::io::Write;\n",
    "use serde::Serialize;\n",
    "use toml::to_string;\n",
    "\n",
    "#[derive(Serialize)]\n",
    "struct ServerConfig {\n",
    "    host: String,\n",
    "    port: u16,\n",
    "    timeout: u32,\n",
    "}\n",
    "\n",
    "#[derive(Serialize)]\n",
    "struct Screener {\n",
    "    url_for_screener: String\n",
    "}\n",
    "\n",
    "fn write_config_to_file(config: &ServerConfig, file_path: &str) -> Result<(), Box<dyn std::error::Error>> {\n",
    "    let toml_string = to_string(config)?;\n",
    "    let mut file = File::create(file_path)?;\n",
    "    file.write_all(toml_string.as_bytes())?;\n",
    "    Ok(())\n",
    "}\n",
    "\n",
    "fn write_screener_to_file(screener: &Screener, file_path: &str) -> Result<(), Box<dyn std::error::Error>> {\n",
    "    let toml_string = to_string(screener)?;\n",
    "    let mut file = File::create(file_path)?;\n",
    "    file.write_all(toml_string.as_bytes())?;\n",
    "    Ok(())\n",
    "}\n",
    "\n",
    "fn main_to_file_two() {\n",
    "    let screener = Screener{\n",
    "        url_for_screener: \"localhost\".to_string(),\n",
    "        };\n",
    "\n",
    "    if let Err(e) = write_screener_to_file(&screener, \"screener.toml\") {\n",
    "        eprintln!(\"Error: {}\", e);\n",
    "    } else {\n",
    "        println!(\"Screener file created successfully.\");\n",
    "    }\n",
    "}\n",
    "        \n",
    " "
   ]
  },
  {
   "cell_type": "code",
   "execution_count": 23,
   "metadata": {
    "vscode": {
     "languageId": "rust"
    }
   },
   "outputs": [
    {
     "name": "stdout",
     "output_type": "stream",
     "text": [
      "Screener file created successfully.\n"
     ]
    }
   ],
   "source": [
    "main_to_file_two();"
   ]
  },
  {
   "cell_type": "code",
   "execution_count": 21,
   "metadata": {
    "vscode": {
     "languageId": "rust"
    }
   },
   "outputs": [],
   "source": [
    "use std::collections::HashMap;\n",
    "use serde::{Deserialize, Serialize};\n",
    "\n",
    "#[derive(Debug, Serialize, Deserialize)]\n",
    "struct Config {\n",
    "    flag1: bool,\n",
    "    flag2: bool,\n",
    "    // the nested table should go last to prevent the `toml::ser::Error::ValueAfterTable`\n",
    "    #[serde(with = \"sentinel_to_none\")]\n",
    "    values: HashMap<String, Option<u32>>,\n",
    "}\n",
    "\n",
    "mod sentinel_to_none {\n",
    "    use super::*;\n",
    "    use serde::{Deserializer, Serializer};\n",
    "\n",
    "    const SENTINEL: u32 = 0;\n",
    "\n",
    "    type SerdeType = HashMap<String, u32>;\n",
    "    type DesiredType = HashMap<String, Option<u32>>;\n",
    "\n",
    "    pub fn serialize<S>(value: &DesiredType, serializer: S) -> Result<S::Ok, S::Error>\n",
    "    where\n",
    "        S: Serializer,\n",
    "    {\n",
    "        let with_sentinel: SerdeType = value\n",
    "            .clone()\n",
    "            .into_iter()\n",
    "            .map(|(name, optional)| {\n",
    "                let flat = optional.unwrap_or(SENTINEL);\n",
    "                (name, flat)\n",
    "            })\n",
    "            .collect();\n",
    "\n",
    "        with_sentinel.serialize(serializer)\n",
    "    }\n",
    "\n",
    "    pub fn deserialize<'de, D>(deserializer: D) -> Result<DesiredType, D::Error>\n",
    "    where\n",
    "        D: Deserializer<'de>,\n",
    "    {\n",
    "        let with_sentinel = SerdeType::deserialize(deserializer)?;\n",
    "        let with_options = with_sentinel\n",
    "            .into_iter()\n",
    "            .map(|(name, flat)| {\n",
    "                let optional = if flat == SENTINEL { None } else { Some(flat) };\n",
    "                (name, optional)\n",
    "            })\n",
    "            .collect();\n",
    "\n",
    "        Ok(with_options)\n",
    "    }\n",
    "}\n",
    "\n",
    "fn main() {\n",
    "    let values = [(\"foo\", Some(5)), (\"bar\", None)]\n",
    "        .iter()\n",
    "        .map(|(name, s)| (name.to_string(), s.clone()))\n",
    "        .collect();\n",
    "\n",
    "    let config = Config {\n",
    "        flag1: true,\n",
    "        flag2: false,\n",
    "        values,\n",
    "    };\n",
    "\n",
    "    let s = toml::ser::to_string(&config).unwrap();\n",
    "    println!(\"Serialized config: \\n{}\", s);\n",
    "\n",
    "    println!(\"-------------------------------\\n\");\n",
    "\n",
    "    let s = \"flag1 = false\n",
    "        flag2 = true\n",
    "        \n",
    "        [values]\n",
    "        should_be_none = 0\n",
    "        should_be_some = 42\";\n",
    "    let config_deser: Config = toml::de::from_str(s).unwrap();\n",
    "    println!(\"Deserialized: {:#?}\", config_deser);\n",
    "}\n"
   ]
  },
  {
   "cell_type": "code",
   "execution_count": 22,
   "metadata": {
    "vscode": {
     "languageId": "rust"
    }
   },
   "outputs": [
    {
     "name": "stdout",
     "output_type": "stream",
     "text": [
      "Serialized config: \n",
      "flag1 = true\n",
      "flag2 = false\n",
      "\n",
      "[values]\n",
      "foo = 5\n",
      "bar = 0\n",
      "\n",
      "-------------------------------\n",
      "\n",
      "Deserialized: Config {\n",
      "    flag1: false,\n",
      "    flag2: true,\n",
      "    values: {\n"
     ]
    },
    {
     "name": "stdout",
     "output_type": "stream",
     "text": [
      "        \"should_be_some\": Some(\n",
      "            42,\n",
      "        ),\n",
      "        \"should_be_none\": None,\n",
      "    },\n",
      "}\n"
     ]
    }
   ],
   "source": [
    "main();"
   ]
  }
 ],
 "metadata": {
  "kernelspec": {
   "display_name": "Rust",
   "language": "rust",
   "name": "rust"
  },
  "language_info": {
   "codemirror_mode": "rust",
   "file_extension": ".rs",
   "mimetype": "text/rust",
   "name": "Rust",
   "pygment_lexer": "rust",
   "version": ""
  },
  "orig_nbformat": 4
 },
 "nbformat": 4,
 "nbformat_minor": 2
}
