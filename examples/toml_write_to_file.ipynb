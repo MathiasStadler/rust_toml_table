{
 "cells": [
  {
   "cell_type": "markdown",
   "metadata": {},
   "source": [
    "[FROM HERe see above](https://www.makeuseof.com/working-with-toml-files-in-rust/)"
   ]
  },
  {
   "cell_type": "code",
   "execution_count": null,
   "metadata": {
    "vscode": {
     "languageId": "rust"
    }
   },
   "outputs": [],
   "source": [
    ":dep serde = { version = \"1.0\", features = [\"derive\"] }\n",
    ":dep toml = \"0.7.6\""
   ]
  },
  {
   "cell_type": "code",
   "execution_count": null,
   "metadata": {
    "vscode": {
     "languageId": "rust"
    }
   },
   "outputs": [],
   "source": [
    "use std::fs::File;\n",
    "use std::io::Write;\n",
    "use serde::Serialize;\n",
    "use toml::to_string;\n",
    "\n",
    "#[derive(Serialize)]\n",
    "struct ServerConfig {\n",
    "    host: String,\n",
    "    port: u16,\n",
    "    timeout: u32,\n",
    "}\n",
    "\n",
    "fn write_config_to_file(config: &ServerConfig, file_path: &str) -> Result<(), Box<dyn std::error::Error>> {\n",
    "    let toml_string = to_string(config)?;\n",
    "    let mut file = File::create(file_path)?;\n",
    "    file.write_all(toml_string.as_bytes())?;\n",
    "    Ok(())\n",
    "}\n",
    "\n",
    "fn main_to_file() {\n",
    "    let config = ServerConfig {\n",
    "        host: \"localhost\".to_owned(),\n",
    "        port: 8000,\n",
    "        timeout: 30,\n",
    "    };\n",
    "\n",
    "    if let Err(e) = write_config_to_file(&config, \"config.toml\") {\n",
    "        eprintln!(\"Error: {}\", e);\n",
    "    } else {\n",
    "        println!(\"Config file created successfully.\");\n",
    "    }\n",
    "}\n",
    "        \n",
    " "
   ]
  },
  {
   "cell_type": "code",
   "execution_count": null,
   "metadata": {
    "vscode": {
     "languageId": "rust"
    }
   },
   "outputs": [],
   "source": [
    "main_to_file();"
   ]
  },
  {
   "cell_type": "code",
   "execution_count": 19,
   "metadata": {
    "vscode": {
     "languageId": "rust"
    }
   },
   "outputs": [],
   "source": [
    "use std::fs::File;\n",
    "use std::io::Write;\n",
    "use serde::Serialize;\n",
    "use toml::to_string;\n",
    "\n",
    "#[derive(Serialize)]\n",
    "struct ServerConfig {\n",
    "    host: String,\n",
    "    port: u16,\n",
    "    timeout: u32,\n",
    "}\n",
    "\n",
    "#[derive(Serialize)]\n",
    "struct Screener {\n",
    "    url_for_screener: String\n",
    "}\n",
    "\n",
    "fn write_config_to_file(config: &ServerConfig, file_path: &str) -> Result<(), Box<dyn std::error::Error>> {\n",
    "    let toml_string = to_string(config)?;\n",
    "    let mut file = File::create(file_path)?;\n",
    "    file.write_all(toml_string.as_bytes())?;\n",
    "    Ok(())\n",
    "}\n",
    "\n",
    "fn write_screener_to_file(screener: &Screener, file_path: &str) -> Result<(), Box<dyn std::error::Error>> {\n",
    "    let toml_string = to_string(screener)?;\n",
    "    let mut file = File::create(file_path)?;\n",
    "    file.write_all(toml_string.as_bytes())?;\n",
    "    Ok(())\n",
    "}\n",
    "\n",
    "fn main_to_file_two() {\n",
    "    let screener = Screener{\n",
    "        url_for_screener: \"localhost\".to_string(),\n",
    "        };\n",
    "\n",
    "    if let Err(e) = write_screener_to_file(&screener, \"screener.toml\") {\n",
    "        eprintln!(\"Error: {}\", e);\n",
    "    } else {\n",
    "        println!(\"Screener file created successfully.\");\n",
    "    }\n",
    "}\n",
    "        \n",
    " "
   ]
  },
  {
   "cell_type": "code",
   "execution_count": 20,
   "metadata": {
    "vscode": {
     "languageId": "rust"
    }
   },
   "outputs": [
    {
     "name": "stdout",
     "output_type": "stream",
     "text": [
      "Screener file created successfully.\n"
     ]
    }
   ],
   "source": [
    "main_to_file_two();"
   ]
  }
 ],
 "metadata": {
  "kernelspec": {
   "display_name": "Rust",
   "language": "rust",
   "name": "rust"
  },
  "language_info": {
   "codemirror_mode": "rust",
   "file_extension": ".rs",
   "mimetype": "text/rust",
   "name": "Rust",
   "pygment_lexer": "rust",
   "version": ""
  },
  "orig_nbformat": 4
 },
 "nbformat": 4,
 "nbformat_minor": 2
}
