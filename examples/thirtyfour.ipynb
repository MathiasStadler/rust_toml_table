{
 "cells": [
  {
   "cell_type": "markdown",
   "metadata": {},
   "source": [
    "[FROM HERE](https://github.com/MathiasStadler/my-only-thirtyfour/blob/master/examples/tokio_finviz.rs)"
   ]
  },
  {
   "cell_type": "markdown",
   "metadata": {},
   "source": [
    "# Motivation control FINVIZ.com stock screener via toml file"
   ]
  },
  {
   "cell_type": "markdown",
   "metadata": {},
   "source": [
    "## 1. create toml template file via jupyter notebook"
   ]
  },
  {
   "cell_type": "code",
   "execution_count": 3,
   "metadata": {
    "vscode": {
     "languageId": "rust"
    }
   },
   "outputs": [],
   "source": [
    ":dep serde = { version = \"1.0\", features = [\"derive\"] }\n",
    ":dep toml = \"0.7.6\"\n",
    ":dep log\n",
    ":dep serde_json "
   ]
  },
  {
   "cell_type": "code",
   "execution_count": 4,
   "metadata": {
    "vscode": {
     "languageId": "rust"
    }
   },
   "outputs": [],
   "source": [
    "use serde::{Deserialize, Serialize};\n",
    "use serde_json::json;\n",
    "use toml::{map::Map, Value};\n",
    "\n",
    "#[derive(PartialEq, Debug, Serialize, Deserialize)]\n",
    "#[derive(Copy, Clone)]\n",
    "struct Point {\n",
    "    x: i32,\n",
    "}\n",
    "\n",
    "\n",
    "\n",
    "fn to_toml(v: Vec<(String, (String, String))>) -> Value {\n",
    "    let mut filters = Map::new();\n",
    "    for (name, (field_name, value)) in v {\n",
    "        let mut filter = Map::new();\n",
    "        filter.insert(\"FieldName\".into(), Value::String(field_name));\n",
    "        filter.insert(\"Value\".into(), Value::String(value));\n",
    "        filters.insert(name, Value::Table(filter));\n",
    "    }\n",
    "    //method removed\n",
    "\n",
    "    let mut map = Map::new();\n",
    "    map.insert(\"filters\".into(), Value::Table(filters).clone());\n",
    "    Value::Table(map)\n",
    "}\n",
    "\n",
    "fn create_toml_str() {\n",
    "    \n",
    "\n",
    "    \n",
    "    let v = vec![\n",
    "        (\"A\".into(), (\"192.168.4.1\".into(), \"192.168.4.1\".into())),\n",
    "        (\"B\".into(), (\"192.168.4.8\".into(), \"192.168.4.1\".into())),\n",
    "    ];\n",
    "\n",
    "    \n",
    "    //here\n",
    "    let my_string = &to_toml(v);\n",
    "    println!(\"DEBUG: my_string => {}\",my_string);\n",
    "    println!();\n",
    "    println!(\"TOML output:\");\n",
    "    \n",
    "    //let toml_string = toml::to_string(&to_toml(v)).expect(\"Could not encode TOML value\");\n",
    "    let toml_string = toml::to_string(my_string).expect(\"Could not encode TOML value\");\n",
    "    println!(\"{}\", toml_string);\n",
    "}\n"
   ]
  },
  {
   "cell_type": "code",
   "execution_count": 5,
   "metadata": {
    "vscode": {
     "languageId": "rust"
    }
   },
   "outputs": [
    {
     "name": "stdout",
     "output_type": "stream",
     "text": [
      "DEBUG: my_string => { filters = { A = { FieldName = \"192.168.4.1\", Value = \"192.168.4.1\" }, B = { FieldName = \"192.168.4.8\", Value = \"192.168.4.1\" } } }\n"
     ]
    },
    {
     "name": "stdout",
     "output_type": "stream",
     "text": [
      "\n",
      "TOML output:\n",
      "[filters.A]\n",
      "FieldName = \"192.168.4.1\"\n",
      "Value = \"192.168.4.1\"\n",
      "\n",
      "[filters.B]\n",
      "FieldName = \"192.168.4.8\"\n",
      "Value = \"192.168.4.1\"\n",
      "\n"
     ]
    }
   ],
   "source": [
    "create_toml_str();"
   ]
  }
 ],
 "metadata": {
  "kernelspec": {
   "display_name": "Rust",
   "language": "rust",
   "name": "rust"
  },
  "language_info": {
   "codemirror_mode": "rust",
   "file_extension": ".rs",
   "mimetype": "text/rust",
   "name": "Rust",
   "pygment_lexer": "rust",
   "version": ""
  },
  "orig_nbformat": 4
 },
 "nbformat": 4,
 "nbformat_minor": 2
}
