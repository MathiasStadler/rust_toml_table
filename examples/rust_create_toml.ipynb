{
 "cells": [
  {
   "cell_type": "markdown",
   "metadata": {},
   "source": [
    "#[FROM HERE](https://www.appsloveworld.com/rust/9/how-to-create-a-toml-file-from-rust)"
   ]
  },
  {
   "cell_type": "code",
   "execution_count": null,
   "metadata": {
    "vscode": {
     "languageId": "rust"
    }
   },
   "outputs": [],
   "source": [
    ":dep serde = { version = \"1.0\", features = [\"derive\"] }\n",
    ":dep toml = \"0.7.6\"\n",
    ":dep log"
   ]
  },
  {
   "cell_type": "code",
   "execution_count": null,
   "metadata": {
    "vscode": {
     "languageId": "rust"
    }
   },
   "outputs": [],
   "source": [
    "use std::fs;\n",
    "use toml::{map::Map, Value}; // 0.5.1\n",
    "\n",
    "fn to_toml(v: Vec<(String, (String, u32))>) -> Value {\n",
    "    let mut columns = Map::new();\n",
    "    for (name, (ip_addr, port)) in v {\n",
    "        let mut column = Map::new();\n",
    "        column.insert(\"Ipaddr\".into(), Value::String(ip_addr));\n",
    "        column.insert(\"Port no\".into(), Value::Integer(port as i64));\n",
    "        columns.insert(name, Value::Table(column));\n",
    "    }\n",
    "\n",
    "    let mut map = Map::new();\n",
    "    map.insert(\"column\".into(), Value::Table(columns));\n",
    "    Value::Table(map)\n",
    "}\n",
    "\n",
    "fn main() {\n",
    "    let v = vec![\n",
    "        (\"A\".into(), (\"192.168.4.1\".into(), 4476)),\n",
    "        (\"B\".into(), (\"192.168.4.8\".into(), 1234)),\n",
    "    ];\n",
    "\n",
    "    let toml_string = toml::to_string(&to_toml(v)).expect(\"Could not encode TOML value\");\n",
    "    println!(\"{}\", toml_string);\n",
    "\n",
    "    fs::write(\"columns.toml\", toml_string).expect(\"Could not write to file!\");\n",
    "}"
   ]
  },
  {
   "cell_type": "code",
   "execution_count": null,
   "metadata": {
    "vscode": {
     "languageId": "rust"
    }
   },
   "outputs": [],
   "source": [
    "main();"
   ]
  },
  {
   "cell_type": "code",
   "execution_count": 50,
   "metadata": {
    "vscode": {
     "languageId": "rust"
    }
   },
   "outputs": [
    {
     "ename": "Error",
     "evalue": "expected one of `!`, `(`, `+`, `::`, `;`, `<`, or `=`, found `,`",
     "output_type": "error",
     "traceback": [
      "\u001b[31mError:\u001b[0m expected one of `!`, `(`, `+`, `::`, `;`, `<`, or `=`, found `,`",
      "    \u001b[38;5;246m╭\u001b[0m\u001b[38;5;246m─\u001b[0m\u001b[38;5;246m[\u001b[0mcommand_50:1:1\u001b[38;5;246m]\u001b[0m",
      "    \u001b[38;5;246m│\u001b[0m",
      " \u001b[38;5;246m19 │\u001b[0m \u001b[38;5;249m \u001b[0m\u001b[38;5;249m \u001b[0m\u001b[38;5;249m \u001b[0m\u001b[38;5;249m \u001b[0m\u001b[38;5;249ml\u001b[0m\u001b[38;5;249me\u001b[0m\u001b[38;5;249mt\u001b[0m\u001b[38;5;249m \u001b[0m\u001b[38;5;249mv\u001b[0m\u001b[38;5;249m:\u001b[0m\u001b[38;5;249mS\u001b[0m\u001b[38;5;249mt\u001b[0m\u001b[38;5;249mr\u001b[0m\u001b[38;5;249mi\u001b[0m\u001b[38;5;249mn\u001b[0m\u001b[38;5;249mg\u001b[0m\u001b[38;5;54m,\u001b[0m\u001b[38;5;249mS\u001b[0m\u001b[38;5;249mt\u001b[0m\u001b[38;5;249mr\u001b[0m\u001b[38;5;249mi\u001b[0m\u001b[38;5;249mn\u001b[0m\u001b[38;5;249mg\u001b[0m\u001b[38;5;249m,\u001b[0m\u001b[38;5;249mS\u001b[0m\u001b[38;5;249mt\u001b[0m\u001b[38;5;249mr\u001b[0m\u001b[38;5;249mi\u001b[0m\u001b[38;5;249mn\u001b[0m\u001b[38;5;249mg\u001b[0m\u001b[38;5;249m \u001b[0m\u001b[38;5;249m=\u001b[0m\u001b[38;5;249m \u001b[0m\u001b[38;5;249mv\u001b[0m\u001b[38;5;249me\u001b[0m\u001b[38;5;249mc\u001b[0m\u001b[38;5;249m!\u001b[0m\u001b[38;5;249m[\u001b[0m",
      " \u001b[38;5;240m   │\u001b[0m                 \u001b[38;5;54m┬\u001b[0m  ",
      " \u001b[38;5;240m   │\u001b[0m                 \u001b[38;5;54m╰\u001b[0m\u001b[38;5;54m─\u001b[0m\u001b[38;5;54m─\u001b[0m expected one of 7 possible tokens",
      "\u001b[38;5;246m────╯\u001b[0m"
     ]
    },
    {
     "ename": "Error",
     "evalue": "mismatched types",
     "output_type": "error",
     "traceback": [
      "\u001b[31m[E0308] Error:\u001b[0m mismatched types"
     ]
    }
   ],
   "source": [
    "use std::fs;\n",
    "use toml::{map::Map, Value}; // 0.5.1\n",
    "\n",
    "fn to_toml(v: Vec<(String, (String, String))>) -> Value {\n",
    "    \n",
    "    let mut columns = Map::new();\n",
    "    \n",
    "    for (name, (string_one, string_two)) in v {\n",
    "        let mut column = Map::new();\n",
    "        column.insert(\"string_one\".into(), string_one.into());\n",
    "        column.insert(\"string_two\".into(), string_two.into());\n",
    "        columns.insert(name, Value::Table(column));\n",
    "    }\n",
    "\n",
    "    let mut map = Map::new();\n",
    "   // map.insert(\"column\".into(), Value::Table(columns));\n",
    "    Value::Table(map)\n",
    "}\n",
    "\n",
    "fn main_to_vec() {\n",
    "    let v:String,String,String = vec![\n",
    "        (\"A\".into(), (\"192.168.4.1\".into(), \"4476\".into())),\n",
    "        (\"B\".into(), (\"192.168.4.8\".into(), \"1234\".into())),\n",
    "    ];\n",
    "\n",
    "        println!(\"{:?}\",v);\n",
    "    //let toml_string = toml::to_string(&to_toml(v)).expect(\"Could not encode TOML value\");\n",
    "    //println!(\"{}\", toml_string);\n",
    "\n",
    "    //fs::write(\"columns.toml\", toml_string).expect(\"Could not write to file!\");\n",
    "}"
   ]
  },
  {
   "cell_type": "code",
   "execution_count": null,
   "metadata": {
    "vscode": {
     "languageId": "rust"
    }
   },
   "outputs": [],
   "source": [
    "main_to_vec();"
   ]
  }
 ],
 "metadata": {
  "kernelspec": {
   "display_name": "Rust",
   "language": "rust",
   "name": "rust"
  },
  "language_info": {
   "codemirror_mode": "rust",
   "file_extension": ".rs",
   "mimetype": "text/rust",
   "name": "Rust",
   "pygment_lexer": "rust",
   "version": ""
  },
  "orig_nbformat": 4
 },
 "nbformat": 4,
 "nbformat_minor": 2
}
