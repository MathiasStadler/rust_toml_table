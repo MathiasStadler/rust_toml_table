{
 "cells": [
  {
   "cell_type": "markdown",
   "metadata": {},
   "source": [
    "#[FROM HERE](https://www.appsloveworld.com/rust/9/how-to-create-a-toml-file-from-rust)"
   ]
  },
  {
   "cell_type": "code",
   "execution_count": 55,
   "metadata": {
    "vscode": {
     "languageId": "rust"
    }
   },
   "outputs": [],
   "source": [
    ":dep serde = { version = \"1.0\", features = [\"derive\"] }\n",
    ":dep toml = \"0.7.6\"\n",
    ":dep log\n",
    ":dep serde_json "
   ]
  },
  {
   "cell_type": "code",
   "execution_count": 4,
   "metadata": {
    "vscode": {
     "languageId": "rust"
    }
   },
   "outputs": [],
   "source": [
    "use std::fs;\n",
    "use toml::{map::Map, Value}; // 0.5.1\n",
    "\n",
    "fn to_toml(v: Vec<(String, (String, u32))>) -> Value {\n",
    "    let mut columns = Map::new();\n",
    "    for (name, (ip_addr, port)) in v {\n",
    "        let mut column = Map::new();\n",
    "        column.insert(\"Ipaddr\".into(), Value::String(ip_addr));\n",
    "        column.insert(\"Port no\".into(), Value::Integer(port as i64));\n",
    "        columns.insert(name, Value::Table(column));\n",
    "    }\n",
    "\n",
    "    let mut map = Map::new();\n",
    "    map.insert(\"column\".into(), Value::Table(columns));\n",
    "    Value::Table(map)\n",
    "}\n",
    "\n",
    "fn main() {\n",
    "    let v = vec![\n",
    "        (\"A\".into(), (\"192.168.4.1\".into(), 4476)),\n",
    "        (\"B\".into(), (\"192.168.4.8\".into(), 1234)),\n",
    "    ];\n",
    "\n",
    "    let toml_string = toml::to_string(&to_toml(v)).expect(\"Could not encode TOML value\");\n",
    "    println!(\"{}\", toml_string);\n",
    "\n",
    "    fs::write(\"columns.toml\", toml_string).expect(\"Could not write to file!\");\n",
    "}"
   ]
  },
  {
   "cell_type": "code",
   "execution_count": 5,
   "metadata": {
    "vscode": {
     "languageId": "rust"
    }
   },
   "outputs": [
    {
     "name": "stdout",
     "output_type": "stream",
     "text": [
      "[column.A]\n",
      "Ipaddr = \"192.168.4.1\"\n",
      "\"Port no\" = 4476\n",
      "\n",
      "[column.B]\n",
      "Ipaddr = \"192.168.4.8\"\n",
      "\"Port no\" = 1234\n",
      "\n"
     ]
    }
   ],
   "source": [
    "main();"
   ]
  },
  {
   "cell_type": "markdown",
   "metadata": {},
   "source": [
    "#with two string"
   ]
  },
  {
   "cell_type": "code",
   "execution_count": 45,
   "metadata": {
    "vscode": {
     "languageId": "rust"
    }
   },
   "outputs": [
    {
     "ename": "Error",
     "evalue": "use of moved value: `v`",
     "output_type": "error",
     "traceback": [
      "\u001b[31m[E0382] Error:\u001b[0m use of moved value: `v`",
      "    \u001b[38;5;246m╭\u001b[0m\u001b[38;5;246m─\u001b[0m\u001b[38;5;246m[\u001b[0mcommand_45:1:1\u001b[38;5;246m]\u001b[0m",
      "    \u001b[38;5;246m│\u001b[0m",
      " \u001b[38;5;246m19 │\u001b[0m \u001b[38;5;249m \u001b[0m\u001b[38;5;249m \u001b[0m\u001b[38;5;249m \u001b[0m\u001b[38;5;249m \u001b[0m\u001b[38;5;249ml\u001b[0m\u001b[38;5;249me\u001b[0m\u001b[38;5;249mt\u001b[0m\u001b[38;5;249m \u001b[0m\u001b[38;5;68mm\u001b[0m\u001b[38;5;68mu\u001b[0m\u001b[38;5;68mt\u001b[0m\u001b[38;5;68m \u001b[0m\u001b[38;5;68mv\u001b[0m\u001b[38;5;249m \u001b[0m\u001b[38;5;249m=\u001b[0m\u001b[38;5;249m \u001b[0m\u001b[38;5;249mv\u001b[0m\u001b[38;5;249me\u001b[0m\u001b[38;5;249mc\u001b[0m\u001b[38;5;249m!\u001b[0m\u001b[38;5;249m[\u001b[0m",
      " \u001b[38;5;240m   │\u001b[0m         \u001b[38;5;68m─\u001b[0m\u001b[38;5;68m─\u001b[0m\u001b[38;5;68m┬\u001b[0m\u001b[38;5;68m─\u001b[0m\u001b[38;5;68m─\u001b[0m  ",
      " \u001b[38;5;240m   │\u001b[0m           \u001b[38;5;68m╰\u001b[0m\u001b[38;5;68m─\u001b[0m\u001b[38;5;68m─\u001b[0m\u001b[38;5;68m─\u001b[0m\u001b[38;5;68m─\u001b[0m move occurs because `v` has type `Vec<(std::string::String, (std::string::String, std::string::String))>`, which does not implement the `Copy` trait",
      " \u001b[38;5;240m   │\u001b[0m ",
      " \u001b[38;5;246m24 │\u001b[0m \u001b[38;5;249m \u001b[0m\u001b[38;5;249m \u001b[0m\u001b[38;5;249m \u001b[0m\u001b[38;5;249m \u001b[0m\u001b[38;5;249ml\u001b[0m\u001b[38;5;249me\u001b[0m\u001b[38;5;249mt\u001b[0m\u001b[38;5;249m \u001b[0m\u001b[38;5;249mm\u001b[0m\u001b[38;5;249my\u001b[0m\u001b[38;5;249m_\u001b[0m\u001b[38;5;249ms\u001b[0m\u001b[38;5;249mt\u001b[0m\u001b[38;5;249mr\u001b[0m\u001b[38;5;249mi\u001b[0m\u001b[38;5;249mn\u001b[0m\u001b[38;5;249mg\u001b[0m\u001b[38;5;249m \u001b[0m\u001b[38;5;249m=\u001b[0m\u001b[38;5;249m \u001b[0m\u001b[38;5;249m&\u001b[0m\u001b[38;5;249mt\u001b[0m\u001b[38;5;249mo\u001b[0m\u001b[38;5;249m_\u001b[0m\u001b[38;5;249mt\u001b[0m\u001b[38;5;249mo\u001b[0m\u001b[38;5;249mm\u001b[0m\u001b[38;5;249ml\u001b[0m\u001b[38;5;249m(\u001b[0m\u001b[38;5;54mv\u001b[0m\u001b[38;5;249m)\u001b[0m\u001b[38;5;249m;\u001b[0m",
      " \u001b[38;5;240m   │\u001b[0m                              \u001b[38;5;54m┬\u001b[0m\u001b[38;5;37m│\u001b[0m ",
      " \u001b[38;5;240m   │\u001b[0m                              \u001b[38;5;54m╰\u001b[0m\u001b[38;5;54m─\u001b[0m\u001b[38;5;54m─\u001b[0m value moved here",
      " \u001b[38;5;240m   │\u001b[0m                               \u001b[38;5;37m│\u001b[0m ",
      " \u001b[38;5;240m   │\u001b[0m                               \u001b[38;5;37m╰\u001b[0m\u001b[38;5;37m─\u001b[0m help: consider cloning the value if the performance cost is acceptable: `.clone()`",
      " \u001b[38;5;240m   │\u001b[0m ",
      " \u001b[38;5;246m27 │\u001b[0m \u001b[38;5;249m \u001b[0m\u001b[38;5;249m \u001b[0m\u001b[38;5;249m \u001b[0m\u001b[38;5;249m \u001b[0m\u001b[38;5;249ml\u001b[0m\u001b[38;5;249me\u001b[0m\u001b[38;5;249mt\u001b[0m\u001b[38;5;249m \u001b[0m\u001b[38;5;249mt\u001b[0m\u001b[38;5;249mo\u001b[0m\u001b[38;5;249mm\u001b[0m\u001b[38;5;249ml\u001b[0m\u001b[38;5;249m_\u001b[0m\u001b[38;5;249ms\u001b[0m\u001b[38;5;249mt\u001b[0m\u001b[38;5;249mr\u001b[0m\u001b[38;5;249mi\u001b[0m\u001b[38;5;249mn\u001b[0m\u001b[38;5;249mg\u001b[0m\u001b[38;5;249m \u001b[0m\u001b[38;5;249m=\u001b[0m\u001b[38;5;249m \u001b[0m\u001b[38;5;249mt\u001b[0m\u001b[38;5;249mo\u001b[0m\u001b[38;5;249mm\u001b[0m\u001b[38;5;249ml\u001b[0m\u001b[38;5;249m:\u001b[0m\u001b[38;5;249m:\u001b[0m\u001b[38;5;249mt\u001b[0m\u001b[38;5;249mo\u001b[0m\u001b[38;5;249m_\u001b[0m\u001b[38;5;249ms\u001b[0m\u001b[38;5;249mt\u001b[0m\u001b[38;5;249mr\u001b[0m\u001b[38;5;249mi\u001b[0m\u001b[38;5;249mn\u001b[0m\u001b[38;5;249mg\u001b[0m\u001b[38;5;249m(\u001b[0m\u001b[38;5;249m&\u001b[0m\u001b[38;5;249mt\u001b[0m\u001b[38;5;249mo\u001b[0m\u001b[38;5;249m_\u001b[0m\u001b[38;5;249mt\u001b[0m\u001b[38;5;249mo\u001b[0m\u001b[38;5;249mm\u001b[0m\u001b[38;5;249ml\u001b[0m\u001b[38;5;249m(\u001b[0m\u001b[38;5;100mv\u001b[0m\u001b[38;5;249m)\u001b[0m\u001b[38;5;249m)\u001b[0m\u001b[38;5;249m.\u001b[0m\u001b[38;5;249me\u001b[0m\u001b[38;5;249mx\u001b[0m\u001b[38;5;249mp\u001b[0m\u001b[38;5;249me\u001b[0m\u001b[38;5;249mc\u001b[0m\u001b[38;5;249mt\u001b[0m\u001b[38;5;249m(\u001b[0m\u001b[38;5;249m\"\u001b[0m\u001b[38;5;249mC\u001b[0m\u001b[38;5;249mo\u001b[0m\u001b[38;5;249mu\u001b[0m\u001b[38;5;249ml\u001b[0m\u001b[38;5;249md\u001b[0m\u001b[38;5;249m \u001b[0m\u001b[38;5;249mn\u001b[0m\u001b[38;5;249mo\u001b[0m\u001b[38;5;249mt\u001b[0m\u001b[38;5;249m \u001b[0m\u001b[38;5;249me\u001b[0m\u001b[38;5;249mn\u001b[0m\u001b[38;5;249mc\u001b[0m\u001b[38;5;249mo\u001b[0m\u001b[38;5;249md\u001b[0m\u001b[38;5;249me\u001b[0m\u001b[38;5;249m \u001b[0m\u001b[38;5;249mT\u001b[0m\u001b[38;5;249mO\u001b[0m\u001b[38;5;249mM\u001b[0m\u001b[38;5;249mL\u001b[0m\u001b[38;5;249m \u001b[0m\u001b[38;5;249mv\u001b[0m\u001b[38;5;249ma\u001b[0m\u001b[38;5;249ml\u001b[0m\u001b[38;5;249mu\u001b[0m\u001b[38;5;249me\u001b[0m\u001b[38;5;249m\"\u001b[0m\u001b[38;5;249m)\u001b[0m\u001b[38;5;249m;\u001b[0m",
      " \u001b[38;5;240m   │\u001b[0m                                                \u001b[38;5;100m┬\u001b[0m  ",
      " \u001b[38;5;240m   │\u001b[0m                                                \u001b[38;5;100m╰\u001b[0m\u001b[38;5;100m─\u001b[0m\u001b[38;5;100m─\u001b[0m value used here after move",
      "\u001b[38;5;246m────╯\u001b[0m"
     ]
    }
   ],
   "source": [
    "use std::fs;\n",
    "use toml::{map::Map, Value}; // 0.5.1\n",
    "\n",
    "fn to_toml(v: Vec<(String, (String, String))>) -> Value {\n",
    "    let mut columns = Map::new();\n",
    "    for (name, (ip_addr, port)) in v {\n",
    "        let mut column = Map::new();\n",
    "        column.insert(\"Ipaddr\".into(), Value::String(ip_addr));\n",
    "        column.insert(\"Port no\".into(), Value::String(port));\n",
    "        columns.insert(name, Value::Table(column));\n",
    "    }\n",
    "\n",
    "    let mut map = Map::new();\n",
    "    map.insert(\"column\".into(), Value::Table(columns));\n",
    "    Value::Table(map)\n",
    "}\n",
    "\n",
    "fn main_with_two_string() {\n",
    "    let mut v = vec![\n",
    "        (\"A\".into(), (\"192.168.4.1\".into(), \"192.168.4.1\".into())),\n",
    "        (\"B\".into(), (\"192.168.4.8\".into(), \"192.168.4.1\".into())),\n",
    "    ];\n",
    "\n",
    "    let my_string = &to_toml(v);\n",
    "    println!(\"my_string => {}\",my_string);\n",
    "    \n",
    "    let toml_string = toml::to_string(&to_toml(v)).expect(\"Could not encode TOML value\");\n",
    "    println!(\"{}\", toml_string);\n",
    "\n",
    "    //fs::write(\"columns.toml\", toml_string).expect(\"Could not write to file!\");\n",
    "}"
   ]
  },
  {
   "cell_type": "code",
   "execution_count": 41,
   "metadata": {
    "vscode": {
     "languageId": "rust"
    }
   },
   "outputs": [
    {
     "name": "stdout",
     "output_type": "stream",
     "text": [
      "my_string => { column = { A = { Ipaddr = \"192.168.4.1\", \"Port no\" = \"192.168.4.1\" }, B = { Ipaddr = \"192.168.4.8\", \"Port no\" = \"192.168.4.1\" } } }\n"
     ]
    }
   ],
   "source": [
    "main_with_two_string();"
   ]
  },
  {
   "cell_type": "code",
   "execution_count": 35,
   "metadata": {
    "vscode": {
     "languageId": "rust"
    }
   },
   "outputs": [
    {
     "ename": "Error",
     "evalue": "{\"rendered\":\"error[E0308]: mismatched types\\n  --> src/lib.rs:23:48\\n   |\\n23 |     let toml_string = toml::to_string(&to_toml(v)).expect(\\\"Could not encode TOML value\\\");\\n   |                                        ------- ^ expected `Vec<(String, (String, String))>`, found `Vec<(_, (_, {integer}))>`\\n   |                                        |\\n   |                                        arguments to this function are incorrect\\n   |\\n   = note: expected struct `Vec<(std::string::String, (std::string::String, std::string::String))>`\\n              found struct `Vec<(_, (_, {integer}))>`\\nnote: function defined here\\n  --> src/lib.rs:3:4\\n   |\\n3  | fn to_toml(v: Vec<(String, (String, String))>) -> Value {\\n   |    ^^^^^^^ ----------------------------------\\n\\n\",\"children\":[{\"children\":[],\"code\":null,\"level\":\"note\",\"message\":\"expected struct `Vec<(std::string::String, (std::string::String, std::string::String))>`\\n   found struct `Vec<(_, (_, {integer}))>`\",\"rendered\":null,\"spans\":[]},{\"children\":[],\"code\":null,\"level\":\"note\",\"message\":\"function defined here\",\"rendered\":null,\"spans\":[{\"byte_end\":111,\"byte_start\":77,\"column_end\":46,\"column_start\":12,\"expansion\":null,\"file_name\":\"src/lib.rs\",\"is_primary\":false,\"label\":\"\",\"line_end\":3,\"line_start\":3,\"suggested_replacement\":null,\"suggestion_applicability\":null,\"text\":[{\"highlight_end\":46,\"highlight_start\":12,\"text\":\"fn to_toml(v: Vec<(String, (String, String))>) -> Value {\"}]},{\"byte_end\":76,\"byte_start\":69,\"column_end\":11,\"column_start\":4,\"expansion\":null,\"file_name\":\"src/lib.rs\",\"is_primary\":true,\"label\":null,\"line_end\":3,\"line_start\":3,\"suggested_replacement\":null,\"suggestion_applicability\":null,\"text\":[{\"highlight_end\":11,\"highlight_start\":4,\"text\":\"fn to_toml(v: Vec<(String, (String, String))>) -> Value {\"}]}]}],\"code\":{\"code\":\"E0308\",\"explanation\":\"Expected type did not match the received type.\\n\\nErroneous code examples:\\n\\n```compile_fail,E0308\\nfn plus_one(x: i32) -> i32 {\\n    x + 1\\n}\\n\\nplus_one(\\\"Not a number\\\");\\n//       ^^^^^^^^^^^^^^ expected `i32`, found `&str`\\n\\nif \\\"Not a bool\\\" {\\n// ^^^^^^^^^^^^ expected `bool`, found `&str`\\n}\\n\\nlet x: f32 = \\\"Not a float\\\";\\n//     ---   ^^^^^^^^^^^^^ expected `f32`, found `&str`\\n//     |\\n//     expected due to this\\n```\\n\\nThis error occurs when an expression was used in a place where the compiler\\nexpected an expression of a different type. It can occur in several cases, the\\nmost common being when calling a function and passing an argument which has a\\ndifferent type than the matching type in the function declaration.\\n\"},\"level\":\"error\",\"message\":\"mismatched types\",\"spans\":[{\"byte_end\":720,\"byte_start\":719,\"column_end\":49,\"column_start\":48,\"expansion\":null,\"file_name\":\"src/lib.rs\",\"is_primary\":true,\"label\":\"expected `Vec<(String, (String, String))>`, found `Vec<(_, (_, {integer}))>`\",\"line_end\":23,\"line_start\":23,\"suggested_replacement\":null,\"suggestion_applicability\":null,\"text\":[{\"highlight_end\":49,\"highlight_start\":48,\"text\":\"    let toml_string = toml::to_string(&to_toml(v)).expect(\\\"Could not encode TOML value\\\");\"}]},{\"byte_end\":718,\"byte_start\":711,\"column_end\":47,\"column_start\":40,\"expansion\":null,\"file_name\":\"src/lib.rs\",\"is_primary\":false,\"label\":\"arguments to this function are incorrect\",\"line_end\":23,\"line_start\":23,\"suggested_replacement\":null,\"suggestion_applicability\":null,\"text\":[{\"highlight_end\":47,\"highlight_start\":40,\"text\":\"    let toml_string = toml::to_string(&to_toml(v)).expect(\\\"Could not encode TOML value\\\");\"}]}]}\n",
     "output_type": "error",
     "traceback": [
      "\u001b[31mError:\u001b[0m {\"rendered\":\"error[E0308]: mismatched types\\n  --> src/lib.rs:23:48\\n   |\\n23 |     let toml_string = toml::to_string(&to_toml(v)).expect(\\\"Could not encode TOML value\\\");\\n   |                                        ------- ^ expected `Vec<(String, (String, String))>`, found `Vec<(_, (_, {integer}))>`\\n   |                                        |\\n   |                                        arguments to this function are incorrect\\n   |\\n   = note: expected struct `Vec<(std::string::String, (std::string::String, std::string::String))>`\\n              found struct `Vec<(_, (_, {integer}))>`\\nnote: function defined here\\n  --> src/lib.rs:3:4\\n   |\\n3  | fn to_toml(v: Vec<(String, (String, String))>) -> Value {\\n   |    ^^^^^^^ ----------------------------------\\n\\n\",\"children\":[{\"children\":[],\"code\":null,\"level\":\"note\",\"message\":\"expected struct `Vec<(std::string::String, (std::string::String, std::string::String))>`\\n   found struct `Vec<(_, (_, {integer}))>`\",\"rendered\":null,\"spans\":[]},{\"children\":[],\"code\":null,\"level\":\"note\",\"message\":\"function defined here\",\"rendered\":null,\"spans\":[{\"byte_end\":111,\"byte_start\":77,\"column_end\":46,\"column_start\":12,\"expansion\":null,\"file_name\":\"src/lib.rs\",\"is_primary\":false,\"label\":\"\",\"line_end\":3,\"line_start\":3,\"suggested_replacement\":null,\"suggestion_applicability\":null,\"text\":[{\"highlight_end\":46,\"highlight_start\":12,\"text\":\"fn to_toml(v: Vec<(String, (String, String))>) -> Value {\"}]},{\"byte_end\":76,\"byte_start\":69,\"column_end\":11,\"column_start\":4,\"expansion\":null,\"file_name\":\"src/lib.rs\",\"is_primary\":true,\"label\":null,\"line_end\":3,\"line_start\":3,\"suggested_replacement\":null,\"suggestion_applicability\":null,\"text\":[{\"highlight_end\":11,\"highlight_start\":4,\"text\":\"fn to_toml(v: Vec<(String, (String, String))>) -> Value {\"}]}]}],\"code\":{\"code\":\"E0308\",\"explanation\":\"Expected type did not match the received type.\\n\\nErroneous code examples:\\n\\n```compile_fail,E0308\\nfn plus_one(x: i32) -> i32 {\\n    x + 1\\n}\\n\\nplus_one(\\\"Not a number\\\");\\n//       ^^^^^^^^^^^^^^ expected `i32`, found `&str`\\n\\nif \\\"Not a bool\\\" {\\n// ^^^^^^^^^^^^ expected `bool`, found `&str`\\n}\\n\\nlet x: f32 = \\\"Not a float\\\";\\n//     ---   ^^^^^^^^^^^^^ expected `f32`, found `&str`\\n//     |\\n//     expected due to this\\n```\\n\\nThis error occurs when an expression was used in a place where the compiler\\nexpected an expression of a different type. It can occur in several cases, the\\nmost common being when calling a function and passing an argument which has a\\ndifferent type than the matching type in the function declaration.\\n\"},\"level\":\"error\",\"message\":\"mismatched types\",\"spans\":[{\"byte_end\":720,\"byte_start\":719,\"column_end\":49,\"column_start\":48,\"expansion\":null,\"file_name\":\"src/lib.rs\",\"is_primary\":true,\"label\":\"expected `Vec<(String, (String, String))>`, found `Vec<(_, (_, {integer}))>`\",\"line_end\":23,\"line_start\":23,\"suggested_replacement\":null,\"suggestion_applicability\":null,\"text\":[{\"highlight_end\":49,\"highlight_start\":48,\"text\":\"    let toml_string = toml::to_string(&to_toml(v)).expect(\\\"Could not encode TOML value\\\");\"}]},{\"byte_end\":718,\"byte_start\":711,\"column_end\":47,\"column_start\":40,\"expansion\":null,\"file_name\":\"src/lib.rs\",\"is_primary\":false,\"label\":\"arguments to this function are incorrect\",\"line_end\":23,\"line_start\":23,\"suggested_replacement\":null,\"suggestion_applicability\":null,\"text\":[{\"highlight_end\":47,\"highlight_start\":40,\"text\":\"    let toml_string = toml::to_string(&to_toml(v)).expect(\\\"Could not encode TOML value\\\");\"}]}]}",
      ""
     ]
    }
   ],
   "source": [
    ":last_error_json"
   ]
  },
  {
   "cell_type": "code",
   "execution_count": 32,
   "metadata": {
    "vscode": {
     "languageId": "rust"
    }
   },
   "outputs": [],
   "source": [
    ":clear"
   ]
  },
  {
   "cell_type": "code",
   "execution_count": 50,
   "metadata": {
    "vscode": {
     "languageId": "rust"
    }
   },
   "outputs": [
    {
     "ename": "Error",
     "evalue": "prefix `no` is unknown",
     "output_type": "error",
     "traceback": [
      "\u001b[31mError:\u001b[0m prefix `no` is unknown"
     ]
    }
   ],
   "source": []
  },
  {
   "cell_type": "code",
   "execution_count": 49,
   "metadata": {
    "vscode": {
     "languageId": "rust"
    }
   },
   "outputs": [],
   "source": [
    "main_from_string();"
   ]
  },
  {
   "cell_type": "markdown",
   "metadata": {},
   "source": [
    "[FROM HERE](https://stackoverflow.com/questions/74090369/can-you-serialize-a-vector-of-stucts-to-toml-in-rust)"
   ]
  },
  {
   "cell_type": "code",
   "execution_count": 60,
   "metadata": {
    "vscode": {
     "languageId": "rust"
    }
   },
   "outputs": [],
   "source": [
    "use serde::{Deserialize, Serialize};\n",
    "\n",
    "#[derive(PartialEq, Debug, Serialize, Deserialize)]\n",
    "struct Point {\n",
    "    x: i32,\n",
    "}\n",
    "\n",
    "#[derive(PartialEq, Debug,Serialize, Deserialize)]\n",
    "struct Points {\n",
    "    points: Vec<Point>\n",
    "}\n",
    "\n",
    "impl From<Vec<Point>> for Points {\n",
    "    fn from(points: Vec<Point>) -> Self {\n",
    "        Points {\n",
    "            points\n",
    "        }\n",
    "    }\n",
    "}\n",
    "\n",
    "fn main_json(){\n",
    "    let original: Points = vec![Point { x: 1 }, Point {x : 2}].into();\n",
    "\n",
    "    let json = serde_json::to_string(&original).unwrap();\n",
    "    let reconstructed: Points = serde_json::from_str(&json).unwrap();\n",
    "    assert_eq!(original, reconstructed);\n",
    "\n",
    "    let toml = toml::to_string(&original).unwrap();\n",
    "    let reconstructed: Points = toml::from_str(&toml).unwrap();\n",
    "\n",
    "    assert_eq!(original, reconstructed);\n",
    "    println!(\"org => {:?}\",original);\n",
    "    println!(\"rec => {:?}\",reconstructed);\n",
    "}"
   ]
  },
  {
   "cell_type": "code",
   "execution_count": 61,
   "metadata": {
    "vscode": {
     "languageId": "rust"
    }
   },
   "outputs": [
    {
     "name": "stdout",
     "output_type": "stream",
     "text": [
      "org => Points { points: [Point { x: 1 }, Point { x: 2 }] }\n",
      "rec => Points { points: [Point { x: 1 }, Point { x: 2 }] }\n"
     ]
    }
   ],
   "source": [
    "main_json();"
   ]
  }
 ],
 "metadata": {
  "kernelspec": {
   "display_name": "Rust",
   "language": "rust",
   "name": "rust"
  },
  "language_info": {
   "codemirror_mode": "rust",
   "file_extension": ".rs",
   "mimetype": "text/rust",
   "name": "Rust",
   "pygment_lexer": "rust",
   "version": ""
  },
  "orig_nbformat": 4
 },
 "nbformat": 4,
 "nbformat_minor": 2
}
