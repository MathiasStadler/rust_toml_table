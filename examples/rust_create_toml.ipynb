{
 "cells": [
  {
   "cell_type": "markdown",
   "metadata": {},
   "source": [
    "#[FROM HERE](https://www.appsloveworld.com/rust/9/how-to-create-a-toml-file-from-rust)"
   ]
  },
  {
   "cell_type": "code",
   "execution_count": null,
   "metadata": {
    "vscode": {
     "languageId": "rust"
    }
   },
   "outputs": [],
   "source": [
    ":dep serde = { version = \"1.0\", features = [\"derive\"] }\n",
    ":dep toml = \"0.7.6\"\n",
    ":dep log\n",
    ":dep serde_json "
   ]
  },
  {
   "cell_type": "code",
   "execution_count": null,
   "metadata": {
    "vscode": {
     "languageId": "rust"
    }
   },
   "outputs": [],
   "source": [
    "use std::fs;\n",
    "use toml::{map::Map, Value}; // 0.5.1\n",
    "\n",
    "fn to_toml(v: Vec<(String, (String, u32))>) -> Value {\n",
    "    let mut columns = Map::new();\n",
    "    for (name, (ip_addr, port)) in v {\n",
    "        let mut column = Map::new();\n",
    "        column.insert(\"Ipaddr\".into(), Value::String(ip_addr));\n",
    "        column.insert(\"Port no\".into(), Value::Integer(port as i64));\n",
    "        columns.insert(name, Value::Table(column));\n",
    "    }\n",
    "\n",
    "    let mut map = Map::new();\n",
    "    map.insert(\"column\".into(), Value::Table(columns));\n",
    "    Value::Table(map)\n",
    "}\n",
    "\n",
    "fn main() {\n",
    "    let v = vec![\n",
    "        (\"A\".into(), (\"192.168.4.1\".into(), 4476)),\n",
    "        (\"B\".into(), (\"192.168.4.8\".into(), 1234)),\n",
    "    ];\n",
    "\n",
    "    let toml_string = toml::to_string(&to_toml(v)).expect(\"Could not encode TOML value\");\n",
    "    println!(\"{}\", toml_string);\n",
    "\n",
    "    fs::write(\"columns.toml\", toml_string).expect(\"Could not write to file!\");\n",
    "}"
   ]
  },
  {
   "cell_type": "code",
   "execution_count": null,
   "metadata": {
    "vscode": {
     "languageId": "rust"
    }
   },
   "outputs": [],
   "source": [
    "main();"
   ]
  },
  {
   "cell_type": "markdown",
   "metadata": {},
   "source": [
    "#with two string"
   ]
  },
  {
   "cell_type": "code",
   "execution_count": null,
   "metadata": {
    "vscode": {
     "languageId": "rust"
    }
   },
   "outputs": [],
   "source": [
    "use std::fs;\n",
    "use toml::{map::Map, Value}; // 0.5.1\n",
    "\n",
    "fn to_toml(v: Vec<(String, (String, String))>) -> Value {\n",
    "    let mut columns = Map::new();\n",
    "    for (name, (ip_addr, port)) in v {\n",
    "        let mut column = Map::new();\n",
    "        column.insert(\"Ipaddr\".into(), Value::String(ip_addr));\n",
    "        column.insert(\"Port no\".into(), Value::String(port));\n",
    "        columns.insert(name, Value::Table(column));\n",
    "    }\n",
    "\n",
    "    let mut map = Map::new();\n",
    "    map.insert(\"column\".into(), Value::Table(columns));\n",
    "    Value::Table(map)\n",
    "}\n",
    "\n",
    "fn main_with_two_string() {\n",
    "    let mut v = vec![\n",
    "        (\"A\".into(), (\"192.168.4.1\".into(), \"192.168.4.1\".into())),\n",
    "        (\"B\".into(), (\"192.168.4.8\".into(), \"192.168.4.1\".into())),\n",
    "    ];\n",
    "\n",
    "    let my_string = &to_toml(v);\n",
    "    println!(\"my_string => {}\",my_string);\n",
    "    \n",
    "    let toml_string = toml::to_string(&to_toml(v)).expect(\"Could not encode TOML value\");\n",
    "    println!(\"{}\", toml_string);\n",
    "\n",
    "    //fs::write(\"columns.toml\", toml_string).expect(\"Could not write to file!\");\n",
    "}"
   ]
  },
  {
   "cell_type": "code",
   "execution_count": null,
   "metadata": {
    "vscode": {
     "languageId": "rust"
    }
   },
   "outputs": [],
   "source": [
    "main_with_two_string();"
   ]
  },
  {
   "cell_type": "code",
   "execution_count": null,
   "metadata": {
    "vscode": {
     "languageId": "rust"
    }
   },
   "outputs": [],
   "source": [
    ":last_error_json"
   ]
  },
  {
   "cell_type": "code",
   "execution_count": null,
   "metadata": {
    "vscode": {
     "languageId": "rust"
    }
   },
   "outputs": [],
   "source": [
    ":clear"
   ]
  },
  {
   "cell_type": "code",
   "execution_count": null,
   "metadata": {
    "vscode": {
     "languageId": "rust"
    }
   },
   "outputs": [],
   "source": []
  },
  {
   "cell_type": "code",
   "execution_count": null,
   "metadata": {
    "vscode": {
     "languageId": "rust"
    }
   },
   "outputs": [],
   "source": [
    "main_from_string();"
   ]
  },
  {
   "cell_type": "markdown",
   "metadata": {},
   "source": [
    "[FROM HERE](https://stackoverflow.com/questions/74090369/can-you-serialize-a-vector-of-stucts-to-toml-in-rust)\n",
    "\n",
    "[Print Pretty](https://stackoverflow.com/questions/42722169/generate-pretty-indented-json-with-serde)"
   ]
  },
  {
   "cell_type": "code",
   "execution_count": null,
   "metadata": {
    "vscode": {
     "languageId": "rust"
    }
   },
   "outputs": [],
   "source": [
    "use serde::{Deserialize, Serialize};\n",
    "use serde_json::json;\n",
    "\n",
    "#[derive(PartialEq, Debug, Serialize, Deserialize)]\n",
    "struct Point {\n",
    "    x: i32,\n",
    "}\n",
    "\n",
    "#[derive(PartialEq, Debug, Serialize, Deserialize)]\n",
    "struct Points {\n",
    "    points: Vec<Point>,\n",
    "}\n",
    "\n",
    "impl From<Vec<Point>> for Points {\n",
    "    fn from(points: Vec<Point>) -> Self {\n",
    "        Points { points }\n",
    "    }\n",
    "}\n",
    "\n",
    "fn main_json() {\n",
    "    let original: Points = vec![Point { x: 1 }, Point { x: 2 }].into();\n",
    "\n",
    "    let json = serde_json::to_string(&original).unwrap();\n",
    "    let reconstructed: Points = serde_json::from_str(&json).unwrap();\n",
    "    assert_eq!(original, reconstructed);\n",
    "    println!(\"org(json) => {:?}\", original);\n",
    "    println!(\"json => {:?}\", json);\n",
    "    println!(\"{}\", serde_json::to_string_pretty(&json).unwrap());\n",
    "    println!(\"rec(json) => {:?}\", reconstructed);\n",
    "\n",
    "    let toml = toml::to_string(&original).unwrap();\n",
    "    let reconstructed: Points = toml::from_str(&toml).unwrap();\n",
    "\n",
    "    assert_eq!(original, reconstructed);\n",
    "    println!(\"org => {:?}\", original);\n",
    "    println!(\"toml => {:?}\", toml);\n",
    "    println!(\"rec => {:?}\", reconstructed);\n",
    "}\n"
   ]
  },
  {
   "cell_type": "code",
   "execution_count": null,
   "metadata": {
    "vscode": {
     "languageId": "rust"
    }
   },
   "outputs": [],
   "source": [
    "main_json_toml();"
   ]
  },
  {
   "cell_type": "code",
   "execution_count": 102,
   "metadata": {
    "vscode": {
     "languageId": "rust"
    }
   },
   "outputs": [],
   "source": [
    "use serde::{Deserialize, Serialize};\n",
    "use serde_json::json;\n",
    "\n",
    "#[derive(PartialEq, Debug, Serialize, Deserialize)]\n",
    "#[derive(Copy, Clone)]\n",
    "struct Point {\n",
    "    x: i32,\n",
    "}\n",
    "\n",
    "#[derive(PartialEq, Debug, Serialize, Deserialize)]\n",
    "struct Points {\n",
    "    points: Vec<Point>,\n",
    "}\n",
    "\n",
    "impl From<Vec<Point>> for Points {\n",
    "    fn from(points: Vec<Point>) -> Self {\n",
    "        Points { points }\n",
    "    }\n",
    "}\n",
    "\n",
    "fn to_toml(v: Vec<(String, (String, String))>) -> Value {\n",
    "    let mut columns = Map::new();\n",
    "    for (name, (ip_addr, port)) in v {\n",
    "        let mut column = Map::new();\n",
    "        column.insert(\"Ipaddr\".into(), Value::String(ip_addr));\n",
    "        column.insert(\"Port no\".into(), Value::String(port));\n",
    "        columns.insert(name, Value::Table(column));\n",
    "    }\n",
    "\n",
    "    let mut map = Map::new();\n",
    "    map.insert(\"column\".into(), Value::Table(columns));\n",
    "    Value::Table(map)\n",
    "}\n",
    "\n",
    "fn main_json_toml2() {\n",
    "    \n",
    "\n",
    "    \n",
    "    let v = vec![\n",
    "        (\"A\".into(), (\"192.168.4.1\".into(), \"192.168.4.1\".into())),\n",
    "        (\"B\".into(), (\"192.168.4.8\".into(), \"192.168.4.1\".into())),\n",
    "    ];\n",
    "\n",
    "    \n",
    "    //here\n",
    "    let my_string = &to_toml(v);\n",
    "    println!(\"my_string => {}\",my_string);\n",
    "    \n",
    "    //let toml_string = toml::to_string(&to_toml(v)).expect(\"Could not encode TOML value\");\n",
    "    let toml_string = toml::to_string(my_string).expect(\"Could not encode TOML value\");\n",
    "    println!(\"{}\", toml_string);\n",
    "}\n"
   ]
  },
  {
   "cell_type": "code",
   "execution_count": 103,
   "metadata": {
    "vscode": {
     "languageId": "rust"
    }
   },
   "outputs": [
    {
     "name": "stdout",
     "output_type": "stream",
     "text": [
      "my_string => { column = { A = { Ipaddr = \"192.168.4.1\", \"Port no\" = \"192.168.4.1\" }, B = { Ipaddr = \"192.168.4.8\", \"Port no\" = \"192.168.4.1\" } } }\n",
      "[column.A]\n",
      "Ipaddr = \"192.168.4.1\"\n",
      "\"Port no\" = \"192.168.4.1\"\n",
      "\n",
      "[column.B]\n",
      "Ipaddr = \"192.168.4.8\"\n",
      "\"Port no\" = \"192.168.4.1\"\n",
      "\n"
     ]
    }
   ],
   "source": [
    "main_json_toml2();"
   ]
  }
 ],
 "metadata": {
  "kernelspec": {
   "display_name": "Rust",
   "language": "rust",
   "name": "rust"
  },
  "language_info": {
   "codemirror_mode": "rust",
   "file_extension": ".rs",
   "mimetype": "text/rust",
   "name": "Rust",
   "pygment_lexer": "rust",
   "version": ""
  },
  "orig_nbformat": 4
 },
 "nbformat": 4,
 "nbformat_minor": 2
}
