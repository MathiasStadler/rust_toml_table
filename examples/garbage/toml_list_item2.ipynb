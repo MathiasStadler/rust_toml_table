{
 "cells": [
  {
   "cell_type": "markdown",
   "metadata": {},
   "source": [
    "[FROM HERE](https://stackoverflow.com/questions/60592561/how-to-deserialize-a-toml-table-containing-an-array-of-tables)"
   ]
  },
  {
   "cell_type": "code",
   "execution_count": null,
   "metadata": {
    "vscode": {
     "languageId": "rust"
    }
   },
   "outputs": [],
   "source": [
    ":dep serde = { version = \"1.0\", features = [\"derive\"] }\n",
    ":dep toml = \"0.7.6\""
   ]
  },
  {
   "cell_type": "code",
   "execution_count": null,
   "metadata": {
    "vscode": {
     "languageId": "rust"
    }
   },
   "outputs": [],
   "source": [
    "use serde::Deserialize;\n",
    "use std::collections::HashMap;\n",
    "use toml::from_str;\n",
    "\n",
    "#[derive(Deserialize, Debug)]\n",
    "struct Item {\n",
    "    foo: u64,\n",
    "    bar: u64,\n",
    "}\n",
    "\n",
    "fn main() {\n",
    "\n",
    "    //new vector\n",
    "    let mut v:Vec<Item> = Vec::new();\n",
    "\n",
    "    //first vector\n",
    "    let item1 = Item{\n",
    "        foo:30,\n",
    "        bar:45,\n",
    "    };\n",
    "    \n",
    "    // add to vector\n",
    "    v.push(item1);\n",
    "\n",
    "    //second vector\n",
    "    //first vector\n",
    "    let item2 = Item{\n",
    "        foo:30,\n",
    "        bar:45,\n",
    "    };\n",
    "    \n",
    "    // add to vector\n",
    "    v.push(item2);\n",
    "\n",
    "    // new HashMap\n",
    "    // https://doc.rust-lang.org/stable/std/collections/struct.HashMap.html\n",
    "    //let mut item_table_two = HashMap::new();\n",
    "    \n",
    "    //item_table_two.insert(\"hallo\".to_string(),item1);\n",
    "\n",
    "\n",
    "    println!(\"original vector = {:?}\", v);\n",
    "    \n",
    "\n",
    "    let items_string: &str = \"[[items]]\\nfoo = 10\\nbar = 100\\n\\n[[items]]\\nfoo = 12\\nbar = 144\\n\";\n",
    "    let items_table: HashMap<String, Vec<Item>> = from_str(items_string).unwrap();\n",
    "    let items: &[Item] = &items_table[\"items\"];\n",
    "\n",
    "    println!(\"{:?}\", items_table);\n",
    "    println!(\"{:?}\", items);\n",
    "\n",
    "    \n",
    "}\n"
   ]
  },
  {
   "cell_type": "code",
   "execution_count": null,
   "metadata": {
    "vscode": {
     "languageId": "rust"
    }
   },
   "outputs": [],
   "source": [
    "main();"
   ]
  },
  {
   "cell_type": "markdown",
   "metadata": {},
   "source": [
    "#HashMap"
   ]
  },
  {
   "cell_type": "code",
   "execution_count": null,
   "metadata": {
    "vscode": {
     "languageId": "rust"
    }
   },
   "outputs": [],
   "source": [
    "use std::collections::HashMap;\n",
    "let mut contacts = HashMap::new();\n",
    "\n",
    "    contacts.insert(\"Daniel\", \"798-1364\");\n",
    "    contacts.insert(\"Ashley\", \"645-7689\");\n",
    "    contacts.insert(\"Katie\", \"435-8291\");\n",
    "    contacts.insert(\"Robert\", \"956-1745\");"
   ]
  },
  {
   "cell_type": "code",
   "execution_count": null,
   "metadata": {
    "vscode": {
     "languageId": "rust"
    }
   },
   "outputs": [],
   "source": [
    "use std::collections::HashMap;\n",
    "use serde::Deserialize;\n",
    "use std::collections::HashMap;\n",
    "use toml::from_str;\n",
    "\n",
    "#[derive(Deserialize, Debug)]\n",
    "struct Item {\n",
    "    foo: u64,\n",
    "    bar: u64,\n",
    "}\n",
    "\n",
    "let mut contacts = HashMap::new();\n",
    "\n",
    "    contacts.insert(\"Daniel\", \"798-1364\");\n",
    "    contacts.insert(\"Ashley\", \"645-7689\");\n",
    "    contacts.insert(\"Katie\", \"435-8291\");\n",
    "    contacts.insert(\"Robert\", \"956-1745\");\n",
    "\n",
    "//new vector\n",
    "let mut v:Vec<Item> = Vec::new();\n",
    "\n",
    "//first vector\n",
    "let item1 = Item{\n",
    "    foo:30,\n",
    "    bar:45,\n",
    "};\n",
    "\n",
    "\n",
    "\n",
    "\n",
    "// add to vector\n",
    "v.push(item1);\n",
    "\n",
    "let mut mapofvec = HashMap::new();\n",
    "\n",
    "//mapofvec.insert(\"one\",v);\n",
    "mapofvec.entry(\"first\".to_strng()).or_insert(Vec::new()).push(item1);\n",
    "\n",
    "println!(\"{:?}\", item1);\n",
    "println!(\"{:?}\", v);\n",
    "println!(\"{:?}\", mapofvec);\n",
    "\n",
    "\n"
   ]
  },
  {
   "cell_type": "markdown",
   "metadata": {},
   "source": [
    "#(FROM HERE)[https://stackoverflow.com/questions/33243784/append-to-vector-as-value-of-hashmap]"
   ]
  },
  {
   "cell_type": "code",
   "execution_count": null,
   "metadata": {
    "vscode": {
     "languageId": "rust"
    }
   },
   "outputs": [],
   "source": [
    "fn main_vec_1() {\n",
    "    let mut dict = HashMap::new();\n",
    "    let mut prefix = [\"\", \"\"];\n",
    "\n",
    "    let lorem = \"Lorem ipsum dolor sit amet, consectetur adipisicing elit. Eum debitis earum quidem dolorem quos consequatur perspiciatis architecto! Reiciendis rem est blanditiis fugiat quidem similique suscipit soluta, ab veniam, laborum numquam. Lorem ipsum dolor sit amet, consectetur adipisicing elit. Eum debitis earum quidem dolorem quos consequatur perspiciatis architecto! Reiciendis rem est blanditiis fugiat quidem similique suscipit soluta, ab veniam, laborum numquam.\";\n",
    "\n",
    "    for token in lorem.split_whitespace() {\n",
    "        if prefix[0] != \"\" {\n",
    "\n",
    "            let key = prefix.join(\" \");\n",
    "\n",
    "            if !dict.contains_key(&key) {\n",
    "                dict.insert(key, vec![token]);\n",
    "            } else {\n",
    "                let v = dict.get(&key);\n",
    "                v.push(token); // does not actually return a vector\n",
    "            }\n",
    "        }\n",
    "\n",
    "        prefix[0] = prefix[1];\n",
    "        prefix[1] = token;\n",
    "    }\n",
    "}"
   ]
  },
  {
   "cell_type": "code",
   "execution_count": null,
   "metadata": {
    "vscode": {
     "languageId": "rust"
    }
   },
   "outputs": [],
   "source": [
    "fn main_vec_2() {\n",
    "    let mut dict = HashMap::new();\n",
    "    let mut prefix = [\"\", \"\"];\n",
    "\n",
    "    let lorem2 = \"Lorem ipsum dolor sit amet, consectetur adipisicing elit. Eum debitis earum quidem dolorem quos consequatur perspiciatis architecto! Reiciendis rem est blanditiis fugiat quidem similique suscipit soluta, ab veniam, laborum numquam. Lorem ipsum dolor sit amet, consectetur adipisicing elit. Eum debitis earum quidem dolorem quos consequatur perspiciatis architecto! Reiciendis rem est blanditiis fugiat quidem similique suscipit soluta, ab veniam, laborum numquam.\";\n",
    "    let lorem = \"Lorem ipsum dolor sit amet, consectetur adipisicing elit. Eum debitis earum quidem dolorem quos consequatur perspiciatis architecto! Reiciendis rem est blanditiis fugiat quidem similique suscipit soluta, ab veniam, laborum numquam. Lorem ipsum dolor sit amet, consectetur adipisicing elit. Eum debitis earum quidem dolorem quos consequatur perspiciatis architecto! Reiciendis rem est blanditiis fugiat quidem similique suscipit soluta, ab veniam, laborum numquam.\";\n",
    "\n",
    "    for token in lorem.split_whitespace() {\n",
    "        if prefix[0] != \"\" {\n",
    "            let key = prefix.join(\" \");\n",
    "            dict.entry(key).or_insert(Vec::new()).push(token);\n",
    "        }\n",
    "    \n",
    "        prefix[0] = prefix[1];\n",
    "        prefix[1] = token;\n",
    "    }\n",
    "    println!(\"{:?}\",dict);\n",
    "        \n",
    "}"
   ]
  },
  {
   "cell_type": "code",
   "execution_count": null,
   "metadata": {
    "vscode": {
     "languageId": "rust"
    }
   },
   "outputs": [],
   "source": [
    "main_vec_2();"
   ]
  },
  {
   "cell_type": "code",
   "execution_count": 10,
   "metadata": {
    "vscode": {
     "languageId": "rust"
    }
   },
   "outputs": [],
   "source": [
    "use std::collections::HashMap;\n",
    "\n",
    "fn main_vec_3() {\n",
    "    let mut dict = HashMap::new();\n",
    "    let mut prefix = [\"\", \"\"];\n",
    "\n",
    "    let lorem2 = \"Lorem ipsum dolor sit amet, consectetur adipisicing elit. Eum debitis earum quidem dolorem quos consequatur perspiciatis architecto! Reiciendis rem est blanditiis fugiat quidem similique suscipit soluta, ab veniam, laborum numquam. Lorem ipsum dolor sit amet, consectetur adipisicing elit. Eum debitis earum quidem dolorem quos consequatur perspiciatis architecto! Reiciendis rem est blanditiis fugiat quidem similique suscipit soluta, ab veniam, laborum numquam.\";\n",
    "    let lorem = \"Lorem ipsum dolor sit amet, consectetur adipisicing elit. Eum debitis earum quidem dolorem quos consequatur perspiciatis architecto! Reiciendis rem est blanditiis fugiat quidem similique suscipit soluta, ab veniam, laborum numquam. Lorem ipsum dolor sit amet, consectetur adipisicing elit. Eum debitis earum quidem dolorem quos consequatur perspiciatis architecto! Reiciendis rem est blanditiis fugiat quidem similique suscipit soluta, ab veniam, laborum numquam.\";\n",
    "\n",
    "    for token in lorem.split_whitespace() {\n",
    "        if prefix[0] != \"\" {\n",
    "            let key = prefix.join(\" \");\n",
    "            \n",
    "            println!(\"keys => {}, token => {}\",key,token);\n",
    "            dict.entry(key).or_insert(Vec::new()).push(token);\n",
    "        }\n",
    "    \n",
    "        prefix[0] = prefix[1];\n",
    "        prefix[1] = token;\n",
    "    }\n",
    "    println!(\"{:?}\",dict);\n",
    "        \n",
    "}"
   ]
  },
  {
   "cell_type": "code",
   "execution_count": 11,
   "metadata": {
    "vscode": {
     "languageId": "rust"
    }
   },
   "outputs": [
    {
     "name": "stdout",
     "output_type": "stream",
     "text": [
      "keys => Lorem ipsum, token => dolor\n",
      "keys => ipsum dolor, token => sit\n",
      "keys => dolor sit, token => amet,\n",
      "keys => sit amet,, token => consectetur\n",
      "keys => amet, consectetur, token => adipisicing\n",
      "keys => consectetur adipisicing, token => elit.\n",
      "keys => adipisicing elit., token => Eum\n",
      "keys => elit. Eum, token => debitis\n",
      "keys => Eum debitis, token => earum\n",
      "keys => debitis earum, token => quidem\n",
      "keys => earum quidem, token => dolorem\n",
      "keys => quidem dolorem, token => quos\n",
      "keys => dolorem quos, token => consequatur\n",
      "keys => quos consequatur, token => perspiciatis\n",
      "keys => consequatur perspiciatis, token => architecto!\n",
      "keys => perspiciatis architecto!, token => Reiciendis\n",
      "keys => architecto! Reiciendis, token => rem\n",
      "keys => Reiciendis rem, token => est\n",
      "keys => rem est, token => blanditiis\n",
      "keys => est blanditiis, token => fugiat\n",
      "keys => blanditiis fugiat, token => quidem\n",
      "keys => fugiat quidem, token => similique\n",
      "keys => quidem similique, token => suscipit\n",
      "keys => similique suscipit, token => soluta,\n",
      "keys => suscipit soluta,, token => ab\n",
      "keys => soluta, ab, token => veniam,\n",
      "keys => ab veniam,, token => laborum\n",
      "keys => veniam, laborum, token => numquam.\n",
      "keys => laborum numquam., token => Lorem\n",
      "keys => numquam. Lorem, token => ipsum\n",
      "keys => Lorem ipsum, token => dolor\n",
      "keys => ipsum dolor, token => sit\n",
      "keys => dolor sit, token => amet,\n",
      "keys => sit amet,, token => consectetur\n",
      "keys => amet, consectetur, token => adipisicing\n",
      "keys => consectetur adipisicing, token => elit.\n",
      "keys => adipisicing elit., token => Eum\n",
      "keys => elit. Eum, token => debitis\n",
      "keys => Eum debitis, token => earum\n",
      "keys => debitis earum, token => quidem\n",
      "keys => earum quidem, token => dolorem\n",
      "keys => quidem dolorem, token => quos\n",
      "keys => dolorem quos, token => consequatur\n",
      "keys => quos consequatur, token => perspiciatis\n",
      "keys => consequatur perspiciatis, token => architecto!\n",
      "keys => perspiciatis architecto!, token => Reiciendis\n",
      "keys => architecto! Reiciendis, token => rem\n",
      "keys => Reiciendis rem, token => est\n",
      "keys => rem est, token => blanditiis\n",
      "keys => est blanditiis, token => fugiat\n",
      "keys => blanditiis fugiat, token => quidem\n",
      "keys => fugiat quidem, token => similique\n",
      "keys => quidem similique, token => suscipit\n",
      "keys => similique suscipit, token => soluta,\n",
      "keys => suscipit soluta,, token => ab\n",
      "keys => soluta, ab, token => veniam,\n",
      "keys => ab veniam,, token => laborum\n",
      "keys => veniam, laborum, token => numquam.\n",
      "{\"numquam. Lorem\": [\"ipsum\"], \"earum quidem\": [\"dolorem\", \"dolorem\"], \"ipsum dolor\": [\"sit\", \"sit\"], \"veniam, laborum\": [\"numquam.\", \"numquam.\"], \"similique suscipit\": [\"soluta,\", \"soluta,\"], \"Lorem ipsum\": [\"dolor\", \"dolor\"], \"soluta, ab\": [\"veniam,\", \"veniam,\"], \"adipisicing elit.\": [\"Eum\", \"Eum\"], \"architecto! Reiciendis\": [\"rem\", \"rem\"], \"Reiciendis rem\": [\"est\", \"est\"], \"debitis earum\": [\"quidem\", \"quidem\"], \"rem est\": [\"blanditiis\", \"blanditiis\"], \"ab veniam,\": [\"laborum\", \"laborum\"], \"perspiciatis architecto!\": [\"Reiciendis\", \"Reiciendis\"], \"fugiat quidem\": [\"similique\", \"similique\"], \"amet, consectetur\": [\"adipisicing\", \"adipisicing\"], \"sit amet,\": [\"consectetur\", \"consectetur\"], \"consequatur perspiciatis\": [\"architecto!\", \"architecto!\"], \"est blanditiis\": [\"fugiat\", \"fugiat\"], \"quidem similique\": [\"suscipit\", \"suscipit\"], \"dolor sit\": [\"amet,\", \"amet,\"], \"quos consequatur\": [\"perspiciatis\", \"perspiciatis\"], \"elit. Eum\": [\"debitis\", \"debitis\"], \"dolorem quos\": [\"consequatur\", \"consequatur\"], \"consectetur adipisicing\": [\"elit.\", \"elit.\"], \"Eum debitis\": [\"earum\", \"earum\"], \"suscipit soluta,\": [\"ab\", \"ab\"], \"blanditiis fugiat\": [\"quidem\", \"quidem\"], \"laborum numquam.\": [\"Lorem\"], \"quidem dolorem\": [\"quos\", \"quos\"]}\n"
     ]
    }
   ],
   "source": [
    "main_vec_3();"
   ]
  }
 ],
 "metadata": {
  "kernelspec": {
   "display_name": "Rust",
   "language": "rust",
   "name": "rust"
  },
  "language_info": {
   "codemirror_mode": "rust",
   "file_extension": ".rs",
   "mimetype": "text/rust",
   "name": "Rust",
   "pygment_lexer": "rust",
   "version": ""
  },
  "orig_nbformat": 4
 },
 "nbformat": 4,
 "nbformat_minor": 2
}
